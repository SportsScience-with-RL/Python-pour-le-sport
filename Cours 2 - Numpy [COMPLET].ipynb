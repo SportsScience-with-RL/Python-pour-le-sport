{
 "cells": [
  {
   "cell_type": "markdown",
   "metadata": {},
   "source": [
    "# NumPy\n",
    "Pour Numerical Python. La librairie tourne autour d'un type d'objet : ARRAY. Array qui signifie tableau, NumPy nous permet de générer des arrays à N-dimensions (1D, 2D, 3D etc.). Les arrays (à 1 dimension) sont très semblables aux listes et nous allons voir que les méthodes d'indexing et slicing sont similaires quelque soit la dimension de nos arrays.\n",
    "<br>Le format array permet des exécutions plus rapides avec de meilleurs calculs scientifiques. De plus ce format est indispensable pour le machine learning : vos données doivent être \"présentées\" aux modèles sous ce format la plupart du temps."
   ]
  },
  {
   "cell_type": "markdown",
   "metadata": {},
   "source": [
    "## Installer et import NumPy"
   ]
  },
  {
   "cell_type": "code",
   "execution_count": 1,
   "metadata": {},
   "outputs": [],
   "source": [
    "# !pip install numpy\n",
    "import numpy as np"
   ]
  },
  {
   "cell_type": "markdown",
   "metadata": {},
   "source": [
    "## 1. Les Arrays\n",
    "Comprendre la construction des Arrays (tableaux)"
   ]
  },
  {
   "cell_type": "code",
   "execution_count": 2,
   "metadata": {},
   "outputs": [
    {
     "data": {
      "text/plain": [
       "array([[[120, 170,  75, 160,  80, 165,  50],\n",
       "        [130, 180,  85, 170,  90, 175,  60]],\n",
       "\n",
       "       [[120, 170,  75, 160,  80, 165,  50],\n",
       "        [130, 180,  85, 170,  90, 175,  60]]])"
      ]
     },
     "execution_count": 2,
     "metadata": {},
     "output_type": "execute_result"
    }
   ],
   "source": [
    "#1D\n",
    "arr_1d = np.array([120, 170, 75, 160, 80, 165, 50])\n",
    "arr_1d\n",
    "\n",
    "np.array([120, 170.0, 75, 160, 80, 165, 50])\n",
    "\n",
    "#2D\n",
    "arr_2d = np.array([[120, 170, 75, 160, 80, 165, 50],\n",
    "                   [130, 180, 85, 170, 90, 175, 60]])\n",
    "arr_2d\n",
    "\n",
    "#3D\n",
    "arr_3d = np.array([[[120, 170, 75, 160, 80, 165, 50],\n",
    "                   [130, 180, 85, 170, 90, 175, 60]],\n",
    "                   [[120, 170, 75, 160, 80, 165, 50],\n",
    "                   [130, 180, 85, 170, 90, 175, 60]]])\n",
    "arr_3d"
   ]
  },
  {
   "cell_type": "code",
   "execution_count": 3,
   "metadata": {},
   "outputs": [
    {
     "name": "stdout",
     "output_type": "stream",
     "text": [
      "7\n",
      "(7,)\n",
      "1\n",
      "int32\n",
      "---\n",
      "14\n",
      "(2, 7)\n",
      "2\n",
      "int32\n",
      "---\n",
      "28\n",
      "(2, 2, 7)\n",
      "3\n",
      "int32\n",
      "---\n"
     ]
    }
   ],
   "source": [
    "#size shape ndim dtype\n",
    "for arr in [arr_1d, arr_2d, arr_3d]:\n",
    "    print(arr.size)\n",
    "    print(arr.shape)\n",
    "    print(arr.ndim)\n",
    "    print(arr.dtype)\n",
    "    print('---')"
   ]
  },
  {
   "cell_type": "markdown",
   "metadata": {},
   "source": [
    "Un plus grand nombre de bits pour nos données permet d'être plus précis cependant moins rapide en calculs. A l'inverse un plus petit nombre de bits permet d'être plus rapide en étant moins précis."
   ]
  },
  {
   "cell_type": "code",
   "execution_count": 4,
   "metadata": {},
   "outputs": [
    {
     "data": {
      "text/plain": [
       "dtype('int8')"
      ]
     },
     "execution_count": 4,
     "metadata": {},
     "output_type": "execute_result"
    }
   ],
   "source": [
    "np.array([1, 2, 3], dtype=np.int8).dtype"
   ]
  },
  {
   "cell_type": "code",
   "execution_count": 5,
   "metadata": {},
   "outputs": [
    {
     "data": {
      "text/plain": [
       "array([[99, 99],\n",
       "       [99, 99]])"
      ]
     },
     "execution_count": 5,
     "metadata": {},
     "output_type": "execute_result"
    }
   ],
   "source": [
    "np.zeros((2, 3, 7))\n",
    "np.ones((2, 3))\n",
    "np.full((2, 2), 99)"
   ]
  },
  {
   "cell_type": "code",
   "execution_count": 6,
   "metadata": {},
   "outputs": [
    {
     "data": {
      "text/plain": [
       "array([ 2.        ,  2.06722689,  2.13445378,  2.20168067,  2.26890756,\n",
       "        2.33613445,  2.40336134,  2.47058824,  2.53781513,  2.60504202,\n",
       "        2.67226891,  2.7394958 ,  2.80672269,  2.87394958,  2.94117647,\n",
       "        3.00840336,  3.07563025,  3.14285714,  3.21008403,  3.27731092,\n",
       "        3.34453782,  3.41176471,  3.4789916 ,  3.54621849,  3.61344538,\n",
       "        3.68067227,  3.74789916,  3.81512605,  3.88235294,  3.94957983,\n",
       "        4.01680672,  4.08403361,  4.1512605 ,  4.21848739,  4.28571429,\n",
       "        4.35294118,  4.42016807,  4.48739496,  4.55462185,  4.62184874,\n",
       "        4.68907563,  4.75630252,  4.82352941,  4.8907563 ,  4.95798319,\n",
       "        5.02521008,  5.09243697,  5.15966387,  5.22689076,  5.29411765,\n",
       "        5.36134454,  5.42857143,  5.49579832,  5.56302521,  5.6302521 ,\n",
       "        5.69747899,  5.76470588,  5.83193277,  5.89915966,  5.96638655,\n",
       "        6.03361345,  6.10084034,  6.16806723,  6.23529412,  6.30252101,\n",
       "        6.3697479 ,  6.43697479,  6.50420168,  6.57142857,  6.63865546,\n",
       "        6.70588235,  6.77310924,  6.84033613,  6.90756303,  6.97478992,\n",
       "        7.04201681,  7.1092437 ,  7.17647059,  7.24369748,  7.31092437,\n",
       "        7.37815126,  7.44537815,  7.51260504,  7.57983193,  7.64705882,\n",
       "        7.71428571,  7.78151261,  7.8487395 ,  7.91596639,  7.98319328,\n",
       "        8.05042017,  8.11764706,  8.18487395,  8.25210084,  8.31932773,\n",
       "        8.38655462,  8.45378151,  8.5210084 ,  8.58823529,  8.65546218,\n",
       "        8.72268908,  8.78991597,  8.85714286,  8.92436975,  8.99159664,\n",
       "        9.05882353,  9.12605042,  9.19327731,  9.2605042 ,  9.32773109,\n",
       "        9.39495798,  9.46218487,  9.52941176,  9.59663866,  9.66386555,\n",
       "        9.73109244,  9.79831933,  9.86554622,  9.93277311, 10.        ])"
      ]
     },
     "execution_count": 6,
     "metadata": {},
     "output_type": "execute_result"
    }
   ],
   "source": [
    "np.arange(3, 10)\n",
    "np.linspace(2, 10, 120)"
   ]
  },
  {
   "cell_type": "markdown",
   "metadata": {},
   "source": [
    "### Random"
   ]
  },
  {
   "cell_type": "code",
   "execution_count": 7,
   "metadata": {},
   "outputs": [
    {
     "data": {
      "text/plain": [
       "array([[[0.87114381, 0.5887113 , 0.15186172],\n",
       "        [0.98199645, 0.41459061, 0.03518515]],\n",
       "\n",
       "       [[0.50355046, 0.89510676, 0.860037  ],\n",
       "        [0.09368977, 0.72080686, 0.06178475]],\n",
       "\n",
       "       [[0.04305536, 0.53337073, 0.21971323],\n",
       "        [0.18857169, 0.54590905, 0.2932466 ]],\n",
       "\n",
       "       [[0.72690018, 0.55487708, 0.82194901],\n",
       "        [0.92220603, 0.34248427, 0.02653625]],\n",
       "\n",
       "       [[0.6687318 , 0.00623722, 0.47293309],\n",
       "        [0.63674116, 0.55196412, 0.78749713]],\n",
       "\n",
       "       [[0.83025006, 0.31313236, 0.74444217],\n",
       "        [0.37557955, 0.63773811, 0.96169695]],\n",
       "\n",
       "       [[0.61045419, 0.23218187, 0.58371161],\n",
       "        [0.26799383, 0.68403473, 0.4301562 ]],\n",
       "\n",
       "       [[0.36079373, 0.48820115, 0.50557889],\n",
       "        [0.49470291, 0.92682704, 0.61619725]],\n",
       "\n",
       "       [[0.47446503, 0.78562399, 0.91758229],\n",
       "        [0.46172898, 0.28920662, 0.72406176]],\n",
       "\n",
       "       [[0.10209425, 0.47200186, 0.32887197],\n",
       "        [0.77039381, 0.36707099, 0.78297379]],\n",
       "\n",
       "       [[0.46450054, 0.8716701 , 0.5729209 ],\n",
       "        [0.22925554, 0.78563217, 0.72429156]],\n",
       "\n",
       "       [[0.16247621, 0.47074029, 0.00137253],\n",
       "        [0.30538333, 0.27165931, 0.88170853]]])"
      ]
     },
     "execution_count": 7,
     "metadata": {},
     "output_type": "execute_result"
    }
   ],
   "source": [
    "np.random.rand(12, 2, 3)"
   ]
  },
  {
   "cell_type": "code",
   "execution_count": 8,
   "metadata": {},
   "outputs": [
    {
     "data": {
      "text/plain": [
       "array([[ 5,  9, 12,  5, 15],\n",
       "       [15,  4, 12, 10,  5],\n",
       "       [10, 12,  5,  7, 15],\n",
       "       [ 7, 14, 13,  4, 11]])"
      ]
     },
     "execution_count": 8,
     "metadata": {},
     "output_type": "execute_result"
    }
   ],
   "source": [
    "np.random.randint(12, size=13)\n",
    "np.random.randint(4, 16, size=(4, 5))"
   ]
  },
  {
   "cell_type": "code",
   "execution_count": 9,
   "metadata": {},
   "outputs": [
    {
     "data": {
      "text/plain": [
       "array([[ 0.09512762, -0.49110123, -0.13584203, -1.48515846],\n",
       "       [ 0.89790545, -0.29797446, -0.31939117,  0.67278612],\n",
       "       [-0.3452536 ,  0.15386222, -0.33777647, -0.49168985],\n",
       "       [ 2.47540206,  1.54717301, -0.10935833,  0.76643302]])"
      ]
     },
     "execution_count": 9,
     "metadata": {},
     "output_type": "execute_result"
    }
   ],
   "source": [
    "np.random.randn(4, 4)"
   ]
  },
  {
   "cell_type": "code",
   "execution_count": 10,
   "metadata": {},
   "outputs": [
    {
     "data": {
      "text/plain": [
       "array([[0.88745879, 0.77982387, 0.26418012, 0.23336208, 0.74038394,\n",
       "        0.89419087],\n",
       "       [0.80489264, 0.24085294, 0.87167647, 0.59812531, 0.14765958,\n",
       "        0.25441759]])"
      ]
     },
     "execution_count": 10,
     "metadata": {},
     "output_type": "execute_result"
    }
   ],
   "source": [
    "np.random.random_sample((2, 6))"
   ]
  },
  {
   "cell_type": "code",
   "execution_count": 11,
   "metadata": {},
   "outputs": [
    {
     "name": "stdout",
     "output_type": "stream",
     "text": [
      "[3 7 3 7 5 6 7 4]\n"
     ]
    },
    {
     "data": {
      "text/plain": [
       "array([5, 7, 4, 7, 7, 3, 6, 3])"
      ]
     },
     "execution_count": 11,
     "metadata": {},
     "output_type": "execute_result"
    }
   ],
   "source": [
    "arr_sh = np.random.randint(2, 8, 8)\n",
    "print(arr_sh)\n",
    "\n",
    "np.random.shuffle(arr_sh)\n",
    "arr_sh"
   ]
  },
  {
   "cell_type": "code",
   "execution_count": 12,
   "metadata": {},
   "outputs": [],
   "source": [
    "from numpy import random"
   ]
  },
  {
   "cell_type": "code",
   "execution_count": 13,
   "metadata": {},
   "outputs": [
    {
     "data": {
      "text/plain": [
       "array([6, 7, 2, 4, 4, 2, 4, 3])"
      ]
     },
     "execution_count": 13,
     "metadata": {},
     "output_type": "execute_result"
    }
   ],
   "source": [
    "random.randint(2, 8, 8)"
   ]
  },
  {
   "cell_type": "code",
   "execution_count": 14,
   "metadata": {},
   "outputs": [],
   "source": [
    "from numpy.random import randint"
   ]
  },
  {
   "cell_type": "code",
   "execution_count": 15,
   "metadata": {},
   "outputs": [
    {
     "data": {
      "text/plain": [
       "array([5, 5, 2, 5, 5, 6, 2, 6])"
      ]
     },
     "execution_count": 15,
     "metadata": {},
     "output_type": "execute_result"
    }
   ],
   "source": [
    "randint(2, 8, 8)"
   ]
  },
  {
   "cell_type": "markdown",
   "metadata": {},
   "source": [
    "## 2. Assemblage & Manipulations"
   ]
  },
  {
   "cell_type": "code",
   "execution_count": 16,
   "metadata": {},
   "outputs": [],
   "source": [
    "arr_1d = np.array([120, 170, 75, 160, 80, 165, 50])\n",
    "arr_1d2 = np.array([130, 180, 85, 170, 90, 175, 60])"
   ]
  },
  {
   "cell_type": "code",
   "execution_count": 17,
   "metadata": {},
   "outputs": [
    {
     "data": {
      "text/plain": [
       "array([[1, 2, 3],\n",
       "       [4, 5, 6],\n",
       "       [7, 8, 9]])"
      ]
     },
     "metadata": {},
     "output_type": "display_data"
    },
    {
     "data": {
      "text/plain": [
       "array([1, 2, 3, 4, 5, 6, 7, 8, 9])"
      ]
     },
     "execution_count": 17,
     "metadata": {},
     "output_type": "execute_result"
    }
   ],
   "source": [
    "np.vstack([arr_1d, arr_1d2])\n",
    "np.hstack([arr_1d, arr_1d2])\n",
    "\n",
    "np.vstack(arr_1d)\n",
    "\n",
    "arr_hs = np.array([[1, 2, 3], [4, 5, 6], [7, 8, 9]])\n",
    "display(arr_hs)\n",
    "\n",
    "np.hstack(arr_hs)"
   ]
  },
  {
   "cell_type": "code",
   "execution_count": 18,
   "metadata": {},
   "outputs": [
    {
     "data": {
      "text/plain": [
       "array([120, 170,  75, 160,  80, 165,  50])"
      ]
     },
     "metadata": {},
     "output_type": "display_data"
    },
    {
     "data": {
      "text/plain": [
       "array([130, 180,  85, 170,  90, 175,  60])"
      ]
     },
     "metadata": {},
     "output_type": "display_data"
    }
   ],
   "source": [
    "display(arr_1d)\n",
    "display(arr_1d2)"
   ]
  },
  {
   "cell_type": "code",
   "execution_count": 19,
   "metadata": {},
   "outputs": [
    {
     "data": {
      "text/plain": [
       "array([[120, 170,  75, 160,  80, 165,  50],\n",
       "       [130, 180,  85, 170,  90, 175,  60]])"
      ]
     },
     "execution_count": 19,
     "metadata": {},
     "output_type": "execute_result"
    }
   ],
   "source": [
    "np.column_stack([arr_1d, arr_1d2])\n",
    "np.row_stack([arr_1d, arr_1d2])"
   ]
  },
  {
   "cell_type": "code",
   "execution_count": 20,
   "metadata": {},
   "outputs": [
    {
     "data": {
      "text/plain": [
       "array([4, 1, 1, 2, 3, 5, 3, 9])"
      ]
     },
     "metadata": {},
     "output_type": "display_data"
    },
    {
     "data": {
      "text/plain": [
       "array([[4, 1],\n",
       "       [1, 2],\n",
       "       [3, 5],\n",
       "       [3, 9]])"
      ]
     },
     "metadata": {},
     "output_type": "display_data"
    },
    {
     "data": {
      "text/plain": [
       "array([[4, 1, 1, 2],\n",
       "       [3, 5, 3, 9]])"
      ]
     },
     "metadata": {},
     "output_type": "display_data"
    },
    {
     "data": {
      "text/plain": [
       "array([[[4, 1],\n",
       "        [1, 2]],\n",
       "\n",
       "       [[3, 5],\n",
       "        [3, 9]]])"
      ]
     },
     "metadata": {},
     "output_type": "display_data"
    },
    {
     "ename": "ValueError",
     "evalue": "cannot reshape array of size 8 into shape (4,3)",
     "output_type": "error",
     "traceback": [
      "\u001b[1;31m---------------------------------------------------------------------------\u001b[0m",
      "\u001b[1;31mValueError\u001b[0m                                Traceback (most recent call last)",
      "Cell \u001b[1;32mIn[20], line 6\u001b[0m\n\u001b[0;32m      4\u001b[0m display(arr_rsh\u001b[38;5;241m.\u001b[39mreshape(\u001b[38;5;241m2\u001b[39m, \u001b[38;5;241m4\u001b[39m))\n\u001b[0;32m      5\u001b[0m display(arr_rsh\u001b[38;5;241m.\u001b[39mreshape(\u001b[38;5;241m2\u001b[39m, \u001b[38;5;241m2\u001b[39m, \u001b[38;5;241m2\u001b[39m))\n\u001b[1;32m----> 6\u001b[0m display(\u001b[43marr_rsh\u001b[49m\u001b[38;5;241;43m.\u001b[39;49m\u001b[43mreshape\u001b[49m\u001b[43m(\u001b[49m\u001b[38;5;241;43m4\u001b[39;49m\u001b[43m,\u001b[49m\u001b[43m \u001b[49m\u001b[38;5;241;43m3\u001b[39;49m\u001b[43m)\u001b[49m)\n",
      "\u001b[1;31mValueError\u001b[0m: cannot reshape array of size 8 into shape (4,3)"
     ]
    }
   ],
   "source": [
    "arr_rsh = np.random.randint(1, 12, 8)\n",
    "display(arr_rsh)\n",
    "display(arr_rsh.reshape(4, 2))\n",
    "display(arr_rsh.reshape(2, 4))\n",
    "display(arr_rsh.reshape(2, 2, 2))\n",
    "display(arr_rsh.reshape(4, 3))"
   ]
  },
  {
   "cell_type": "code",
   "execution_count": 21,
   "metadata": {},
   "outputs": [
    {
     "data": {
      "text/plain": [
       "array([4, 1, 1, 2, 3, 5, 3, 9])"
      ]
     },
     "execution_count": 21,
     "metadata": {},
     "output_type": "execute_result"
    }
   ],
   "source": [
    "np.ravel(arr_rsh.reshape(2, 2, 2))"
   ]
  },
  {
   "cell_type": "code",
   "execution_count": 22,
   "metadata": {},
   "outputs": [
    {
     "data": {
      "text/plain": [
       "array([[5, 7],\n",
       "       [4, 7],\n",
       "       [7, 3],\n",
       "       [6, 3]])"
      ]
     },
     "metadata": {},
     "output_type": "display_data"
    },
    {
     "data": {
      "text/plain": [
       "array([[5, 4, 7, 6],\n",
       "       [7, 7, 3, 3]])"
      ]
     },
     "execution_count": 22,
     "metadata": {},
     "output_type": "execute_result"
    }
   ],
   "source": [
    "display(arr_sh.reshape(4, 2))\n",
    "np.transpose(arr_sh.reshape(4, 2))"
   ]
  },
  {
   "cell_type": "code",
   "execution_count": 23,
   "metadata": {},
   "outputs": [
    {
     "data": {
      "text/plain": [
       "array([1, 1, 2, 3, 3, 4, 5, 9])"
      ]
     },
     "execution_count": 23,
     "metadata": {},
     "output_type": "execute_result"
    }
   ],
   "source": [
    "np.sort(arr_rsh)"
   ]
  },
  {
   "cell_type": "code",
   "execution_count": 24,
   "metadata": {},
   "outputs": [
    {
     "data": {
      "text/plain": [
       "array([[120, 170,  75, 160,  80, 165,  50],\n",
       "       [130, 180,  85, 170,  90, 175,  60]])"
      ]
     },
     "metadata": {},
     "output_type": "display_data"
    },
    {
     "data": {
      "text/plain": [
       "array([[ 50,  75,  80, 120, 160, 165, 170],\n",
       "       [ 60,  85,  90, 130, 170, 175, 180]])"
      ]
     },
     "metadata": {},
     "output_type": "display_data"
    },
    {
     "data": {
      "text/plain": [
       "array([[120, 170,  75, 160,  80, 165,  50],\n",
       "       [130, 180,  85, 170,  90, 175,  60]])"
      ]
     },
     "metadata": {},
     "output_type": "display_data"
    }
   ],
   "source": [
    "display(arr_2d)\n",
    "display(np.sort(arr_2d, axis=1))\n",
    "display(np.sort(arr_2d, axis=0))"
   ]
  },
  {
   "cell_type": "code",
   "execution_count": 25,
   "metadata": {},
   "outputs": [
    {
     "data": {
      "text/plain": [
       "array([[120, 170,  75, 160,  80, 165,  50],\n",
       "       [130, 180,  85, 170,  90, 175,  60]])"
      ]
     },
     "execution_count": 25,
     "metadata": {},
     "output_type": "execute_result"
    }
   ],
   "source": [
    "arr_2d2 = np.array([[130, 180,  85, 170,  90, 175,  60],\n",
    "                    [120, 170,  75, 160,  80, 165,  50]])\n",
    "np.sort(arr_2d2, axis=0)"
   ]
  },
  {
   "cell_type": "markdown",
   "metadata": {},
   "source": [
    "## 3. Indexing & Slicing"
   ]
  },
  {
   "cell_type": "markdown",
   "metadata": {},
   "source": [
    "### 1D"
   ]
  },
  {
   "cell_type": "code",
   "execution_count": 26,
   "metadata": {},
   "outputs": [
    {
     "data": {
      "text/plain": [
       "array([120, 170,  75, 160,  80, 165,  50])"
      ]
     },
     "execution_count": 26,
     "metadata": {},
     "output_type": "execute_result"
    }
   ],
   "source": [
    "arr_1d"
   ]
  },
  {
   "cell_type": "code",
   "execution_count": 27,
   "metadata": {},
   "outputs": [
    {
     "data": {
      "text/plain": [
       "array([170,  75, 160])"
      ]
     },
     "execution_count": 27,
     "metadata": {},
     "output_type": "execute_result"
    }
   ],
   "source": [
    "arr_1d[1]\n",
    "arr_1d[-2]\n",
    "arr_1d[2:-1]\n",
    "arr_1d[1:4]"
   ]
  },
  {
   "cell_type": "markdown",
   "metadata": {},
   "source": [
    "### 2D"
   ]
  },
  {
   "cell_type": "code",
   "execution_count": 28,
   "metadata": {},
   "outputs": [
    {
     "data": {
      "text/plain": [
       "array([[120, 170,  75, 160,  80, 165,  50],\n",
       "       [130, 180,  85, 170,  90, 175,  60]])"
      ]
     },
     "execution_count": 28,
     "metadata": {},
     "output_type": "execute_result"
    }
   ],
   "source": [
    "arr_2d"
   ]
  },
  {
   "cell_type": "code",
   "execution_count": 29,
   "metadata": {},
   "outputs": [
    {
     "data": {
      "text/plain": [
       "array([170,  90, 175])"
      ]
     },
     "execution_count": 29,
     "metadata": {},
     "output_type": "execute_result"
    }
   ],
   "source": [
    "arr_2d[1, 2]\n",
    "arr_2d[:, 2]\n",
    "arr_2d[1, 3:6]"
   ]
  },
  {
   "cell_type": "markdown",
   "metadata": {},
   "source": [
    "### 3D"
   ]
  },
  {
   "cell_type": "code",
   "execution_count": 30,
   "metadata": {},
   "outputs": [
    {
     "data": {
      "text/plain": [
       "array([[[120, 170,  75, 160,  80, 165,  50],\n",
       "        [130, 180,  85, 170,  90, 175,  60]],\n",
       "\n",
       "       [[120, 170,  75, 160,  80, 165,  50],\n",
       "        [130, 180,  85, 170,  90, 175,  60]]])"
      ]
     },
     "execution_count": 30,
     "metadata": {},
     "output_type": "execute_result"
    }
   ],
   "source": [
    "arr_3d"
   ]
  },
  {
   "cell_type": "code",
   "execution_count": 31,
   "metadata": {},
   "outputs": [
    {
     "data": {
      "text/plain": [
       "array([ 75, 160,  80])"
      ]
     },
     "execution_count": 31,
     "metadata": {},
     "output_type": "execute_result"
    }
   ],
   "source": [
    "arr_3d[0, 0, 0]\n",
    "arr_3d[:, 1, 3]\n",
    "arr_3d[1, 0, 2:5]"
   ]
  },
  {
   "cell_type": "markdown",
   "metadata": {},
   "source": [
    "### Remplacement"
   ]
  },
  {
   "cell_type": "code",
   "execution_count": 32,
   "metadata": {},
   "outputs": [
    {
     "data": {
      "text/plain": [
       "array([[120, 170,  75, 160,  80, 165,  50],\n",
       "       [130, 180,  85,  88,  88,  88,  60]])"
      ]
     },
     "execution_count": 32,
     "metadata": {},
     "output_type": "execute_result"
    }
   ],
   "source": [
    "#Remplace tout le slicing\n",
    "arr_1d[:2] = 99\n",
    "arr_1d\n",
    "\n",
    "arr_2d[1, 3:6] = 88\n",
    "arr_2d"
   ]
  },
  {
   "cell_type": "code",
   "execution_count": 33,
   "metadata": {},
   "outputs": [
    {
     "data": {
      "text/plain": [
       "array([[120, 170,  11,  22,  33, 165,  50],\n",
       "       [130, 180,  44,  55,  66,  88,  60]])"
      ]
     },
     "execution_count": 33,
     "metadata": {},
     "output_type": "execute_result"
    }
   ],
   "source": [
    "#Remplacement détaillé => doit être de la même dimension\n",
    "arr_2d[:, 2:5] = [[11, 22, 33], [44, 55, 66]]\n",
    "arr_2d"
   ]
  },
  {
   "cell_type": "markdown",
   "metadata": {},
   "source": [
    "### Boolean indexing"
   ]
  },
  {
   "cell_type": "code",
   "execution_count": 34,
   "metadata": {},
   "outputs": [
    {
     "data": {
      "text/plain": [
       "array([ 99,  99,  75, 160,  80, 165,  50])"
      ]
     },
     "metadata": {},
     "output_type": "display_data"
    },
    {
     "data": {
      "text/plain": [
       "array([False, False,  True, False, False, False,  True])"
      ]
     },
     "execution_count": 34,
     "metadata": {},
     "output_type": "execute_result"
    }
   ],
   "source": [
    "display(arr_1d)\n",
    "arr_1d < 80"
   ]
  },
  {
   "cell_type": "code",
   "execution_count": 35,
   "metadata": {},
   "outputs": [
    {
     "data": {
      "text/plain": [
       "array([75, 50])"
      ]
     },
     "execution_count": 35,
     "metadata": {},
     "output_type": "execute_result"
    }
   ],
   "source": [
    "arr_1d[arr_1d < 80]"
   ]
  },
  {
   "cell_type": "code",
   "execution_count": 36,
   "metadata": {},
   "outputs": [
    {
     "data": {
      "text/plain": [
       "array([75, 50])"
      ]
     },
     "execution_count": 36,
     "metadata": {},
     "output_type": "execute_result"
    }
   ],
   "source": [
    "mask = arr_1d < 80\n",
    "arr_1d[mask]"
   ]
  },
  {
   "cell_type": "code",
   "execution_count": 37,
   "metadata": {},
   "outputs": [
    {
     "data": {
      "text/plain": [
       "array([75])"
      ]
     },
     "execution_count": 37,
     "metadata": {},
     "output_type": "execute_result"
    }
   ],
   "source": [
    "#Plusieurs conditions possibles and or not\n",
    "arr_1d[(arr_1d < 80) & (arr_1d > 65)]"
   ]
  },
  {
   "cell_type": "code",
   "execution_count": 38,
   "metadata": {},
   "outputs": [
    {
     "data": {
      "text/plain": [
       "array([ 99,  99, 111, 160,  80, 165, 111])"
      ]
     },
     "execution_count": 38,
     "metadata": {},
     "output_type": "execute_result"
    }
   ],
   "source": [
    "arr_1d[mask] = 111\n",
    "arr_1d"
   ]
  },
  {
   "cell_type": "markdown",
   "metadata": {},
   "source": [
    "# 4. Statistiques et Mathématiques"
   ]
  },
  {
   "cell_type": "code",
   "execution_count": 39,
   "metadata": {},
   "outputs": [],
   "source": [
    "arr_stat_1d = np.array([90, 160, 45, 155, 55, 145])\n",
    "arr_stat_2d = np.array([[90, 160, 45, 155, 55, 145],\n",
    "                        [80, 170, 35, 145, 45, 135]])"
   ]
  },
  {
   "cell_type": "code",
   "execution_count": 40,
   "metadata": {},
   "outputs": [
    {
     "data": {
      "text/plain": [
       "650"
      ]
     },
     "execution_count": 40,
     "metadata": {},
     "output_type": "execute_result"
    }
   ],
   "source": [
    "np.sum(arr_stat_1d)\n",
    "arr_stat_1d.sum()"
   ]
  },
  {
   "cell_type": "code",
   "execution_count": 41,
   "metadata": {},
   "outputs": [
    {
     "data": {
      "text/plain": [
       "array([[ 90, 160,  45, 155,  55, 145],\n",
       "       [ 80, 170,  35, 145,  45, 135]])"
      ]
     },
     "metadata": {},
     "output_type": "display_data"
    },
    {
     "data": {
      "text/plain": [
       "1260"
      ]
     },
     "metadata": {},
     "output_type": "display_data"
    },
    {
     "data": {
      "text/plain": [
       "array([170, 330,  80, 300, 100, 280])"
      ]
     },
     "metadata": {},
     "output_type": "display_data"
    },
    {
     "data": {
      "text/plain": [
       "array([650, 610])"
      ]
     },
     "metadata": {},
     "output_type": "display_data"
    },
    {
     "data": {
      "text/plain": [
       "array([[650],\n",
       "       [610]])"
      ]
     },
     "metadata": {},
     "output_type": "display_data"
    }
   ],
   "source": [
    "display(arr_stat_2d)\n",
    "display(np.sum(arr_stat_2d))\n",
    "display(np.sum(arr_stat_2d, axis=0))\n",
    "display(np.sum(arr_stat_2d, axis=1))\n",
    "display(np.sum(arr_stat_2d, axis=1, keepdims=True))"
   ]
  },
  {
   "cell_type": "code",
   "execution_count": 42,
   "metadata": {},
   "outputs": [
    {
     "data": {
      "text/plain": [
       "array([2., 2.])"
      ]
     },
     "execution_count": 42,
     "metadata": {},
     "output_type": "execute_result"
    }
   ],
   "source": [
    "np.round(np.array([1.54, 1.45]))\n",
    "np.floor(np.array([1.54, 1.45]))\n",
    "np.ceil(np.array([1.54, 1.45]))"
   ]
  },
  {
   "cell_type": "code",
   "execution_count": 43,
   "metadata": {},
   "outputs": [
    {
     "data": {
      "text/plain": [
       "2145082944"
      ]
     },
     "execution_count": 43,
     "metadata": {},
     "output_type": "execute_result"
    }
   ],
   "source": [
    "np.mean(arr_stat_1d)\n",
    "np.average(arr_stat_1d)\n",
    "np.median(arr_stat_1d)\n",
    "np.var(arr_stat_1d)\n",
    "np.std(arr_stat_1d)\n",
    "np.cumsum(arr_stat_1d)\n",
    "np.prod(arr_stat_1d)"
   ]
  },
  {
   "cell_type": "code",
   "execution_count": 44,
   "metadata": {},
   "outputs": [
    {
     "data": {
      "text/plain": [
       "array([[ 90, 160,  45, 155,  55, 145],\n",
       "       [ 80, 170,  35, 145,  45, 135]])"
      ]
     },
     "execution_count": 44,
     "metadata": {},
     "output_type": "execute_result"
    }
   ],
   "source": [
    "arr_stat_2d"
   ]
  },
  {
   "cell_type": "code",
   "execution_count": 45,
   "metadata": {},
   "outputs": [
    {
     "data": {
      "text/plain": [
       "array([ 7200, 27200,  1575, 22475,  2475, 19575])"
      ]
     },
     "execution_count": 45,
     "metadata": {},
     "output_type": "execute_result"
    }
   ],
   "source": [
    "np.mean(arr_stat_2d, axis=0)\n",
    "np.average(arr_stat_2d, axis=0)\n",
    "np.median(arr_stat_2d, axis=0)\n",
    "np.var(arr_stat_2d, axis=0)\n",
    "np.std(arr_stat_2d, axis=0)\n",
    "np.cumsum(arr_stat_2d, axis=0)\n",
    "np.prod(arr_stat_2d, axis=0)"
   ]
  },
  {
   "cell_type": "code",
   "execution_count": 46,
   "metadata": {},
   "outputs": [
    {
     "data": {
      "text/plain": [
       "array([[ 2145082944],\n",
       "       [-1610295008]])"
      ]
     },
     "execution_count": 46,
     "metadata": {},
     "output_type": "execute_result"
    }
   ],
   "source": [
    "np.mean(arr_stat_2d, axis=1, keepdims=True)\n",
    "np.average(arr_stat_2d, axis=1, keepdims=True)\n",
    "np.median(arr_stat_2d, axis=1, keepdims=True)\n",
    "np.var(arr_stat_2d, axis=1, keepdims=True)\n",
    "np.std(arr_stat_2d, axis=1, keepdims=True)\n",
    "np.cumsum(arr_stat_2d, axis=1)\n",
    "np.prod(arr_stat_2d, axis=1, keepdims=True)"
   ]
  },
  {
   "cell_type": "code",
   "execution_count": 47,
   "metadata": {},
   "outputs": [
    {
     "data": {
      "text/plain": [
       "419296500000"
      ]
     },
     "execution_count": 47,
     "metadata": {},
     "output_type": "execute_result"
    }
   ],
   "source": [
    "np.prod(np.array([ 80, 170,  35, 145,  45, 135], dtype=np.int64))"
   ]
  },
  {
   "cell_type": "code",
   "execution_count": 48,
   "metadata": {},
   "outputs": [
    {
     "data": {
      "text/plain": [
       "50.0"
      ]
     },
     "metadata": {},
     "output_type": "display_data"
    },
    {
     "data": {
      "text/plain": [
       "50.0"
      ]
     },
     "metadata": {},
     "output_type": "display_data"
    }
   ],
   "source": [
    "display(np.percentile(arr_stat_1d, 10))\n",
    "display(np.quantile(arr_stat_1d, .1))"
   ]
  },
  {
   "cell_type": "code",
   "execution_count": 49,
   "metadata": {},
   "outputs": [
    {
     "data": {
      "text/plain": [
       "50.0"
      ]
     },
     "metadata": {},
     "output_type": "display_data"
    },
    {
     "data": {
      "text/plain": [
       "50.0"
      ]
     },
     "metadata": {},
     "output_type": "display_data"
    },
    {
     "name": "stdout",
     "output_type": "stream",
     "text": [
      "---\n"
     ]
    },
    {
     "data": {
      "text/plain": [
       "52.5"
      ]
     },
     "metadata": {},
     "output_type": "display_data"
    },
    {
     "data": {
      "text/plain": [
       "52.5"
      ]
     },
     "metadata": {},
     "output_type": "display_data"
    },
    {
     "name": "stdout",
     "output_type": "stream",
     "text": [
      "---\n"
     ]
    },
    {
     "data": {
      "text/plain": [
       "79.5"
      ]
     },
     "metadata": {},
     "output_type": "display_data"
    },
    {
     "data": {
      "text/plain": [
       "79.5"
      ]
     },
     "metadata": {},
     "output_type": "display_data"
    },
    {
     "name": "stdout",
     "output_type": "stream",
     "text": [
      "---\n"
     ]
    },
    {
     "data": {
      "text/plain": [
       "157.0"
      ]
     },
     "metadata": {},
     "output_type": "display_data"
    },
    {
     "data": {
      "text/plain": [
       "157.0"
      ]
     },
     "metadata": {},
     "output_type": "display_data"
    },
    {
     "name": "stdout",
     "output_type": "stream",
     "text": [
      "---\n"
     ]
    }
   ],
   "source": [
    "for qp in [10, 15, 34, 88]:\n",
    "    display(np.percentile(arr_stat_1d, qp))\n",
    "    display(np.quantile(arr_stat_1d, qp/100))\n",
    "    print('---')"
   ]
  },
  {
   "cell_type": "code",
   "execution_count": 50,
   "metadata": {},
   "outputs": [
    {
     "data": {
      "text/plain": [
       "array([[ 90, 160,  45, 155,  55, 145],\n",
       "       [ 80, 170,  35, 145,  45, 135]])"
      ]
     },
     "metadata": {},
     "output_type": "display_data"
    },
    {
     "data": {
      "text/plain": [
       "array([[1.       , 0.9919353],\n",
       "       [0.9919353, 1.       ]])"
      ]
     },
     "execution_count": 50,
     "metadata": {},
     "output_type": "execute_result"
    }
   ],
   "source": [
    "display(arr_stat_2d)\n",
    "np.corrcoef(arr_stat_2d)"
   ]
  },
  {
   "cell_type": "code",
   "execution_count": 51,
   "metadata": {},
   "outputs": [
    {
     "data": {
      "text/plain": [
       "array([[ 45, 101,  94],\n",
       "       [ 41, 151,  84],\n",
       "       [197,  56, 177],\n",
       "       [ 60, 176, 111],\n",
       "       [ 49,  79, 105]])"
      ]
     },
     "metadata": {},
     "output_type": "display_data"
    },
    {
     "data": {
      "text/plain": [
       "array([[ 1.        ,  0.36066937, -0.53663867, -0.60273518,  0.93098354],\n",
       "       [ 0.36066937,  1.        ,  0.59346917, -0.96162296, -0.00471301],\n",
       "       [-0.53663867,  0.59346917,  1.        , -0.34986154, -0.80764481],\n",
       "       [-0.60273518, -0.96162296, -0.34986154,  1.        , -0.26983916],\n",
       "       [ 0.93098354, -0.00471301, -0.80764481, -0.26983916,  1.        ]])"
      ]
     },
     "execution_count": 51,
     "metadata": {},
     "output_type": "execute_result"
    }
   ],
   "source": [
    "display(np.random.randint(40, 200, (5, 3)))\n",
    "np.corrcoef(np.random.randint(40, 200, (5, 3)))"
   ]
  },
  {
   "cell_type": "code",
   "execution_count": 52,
   "metadata": {},
   "outputs": [
    {
     "data": {
      "text/plain": [
       "array([[ 90, 160,  45, 155,  55, 145],\n",
       "       [ 80, 170,  35, 145,  45, 135]])"
      ]
     },
     "metadata": {},
     "output_type": "display_data"
    },
    {
     "data": {
      "text/plain": [
       "array([[ 45,  55,  90, 145, 155, 160],\n",
       "       [ 35,  45,  80, 135, 145, 170]])"
      ]
     },
     "execution_count": 52,
     "metadata": {},
     "output_type": "execute_result"
    }
   ],
   "source": [
    "np.unique(arr_stat_1d)\n",
    "display(arr_stat_2d)\n",
    "np.unique(arr_stat_2d, axis=0)\n",
    "np.unique(arr_stat_2d, axis=1)"
   ]
  },
  {
   "cell_type": "code",
   "execution_count": 53,
   "metadata": {},
   "outputs": [
    {
     "data": {
      "text/plain": [
       "(array([ 45,  55,  90, 145, 155, 160]), array([1, 1, 1, 1, 1, 1], dtype=int64))"
      ]
     },
     "execution_count": 53,
     "metadata": {},
     "output_type": "execute_result"
    }
   ],
   "source": [
    "np.unique(arr_stat_1d, return_counts=True)"
   ]
  },
  {
   "cell_type": "code",
   "execution_count": 54,
   "metadata": {},
   "outputs": [
    {
     "name": "stderr",
     "output_type": "stream",
     "text": [
      "C:\\Users\\raflg\\AppData\\Local\\Temp\\ipykernel_4516\\3874044602.py:5: RuntimeWarning: divide by zero encountered in log\n",
      "  np.log(np.array([0, 1, 2, 3]))\n"
     ]
    },
    {
     "data": {
      "text/plain": [
       "array([0.        , 0.69314718, 1.09861229, 1.38629436])"
      ]
     },
     "metadata": {},
     "output_type": "display_data"
    },
    {
     "data": {
      "text/plain": [
       "array([0.        , 0.69314718, 1.09861229, 1.38629436])"
      ]
     },
     "metadata": {},
     "output_type": "display_data"
    }
   ],
   "source": [
    "np.sqrt(arr_stat_2d)\n",
    "np.exp(arr_stat_2d)\n",
    "np.log(arr_stat_2d)\n",
    "\n",
    "np.log(np.array([0, 1, 2, 3]))\n",
    "display(np.log1p(np.array([0, 1, 2, 3])))\n",
    "display(np.log(np.array([1, 2, 3, 4])))"
   ]
  },
  {
   "cell_type": "code",
   "execution_count": 58,
   "metadata": {},
   "outputs": [
    {
     "data": {
      "text/plain": [
       "array([[-19,  14, -18],\n",
       "       [ 17,   8,  23],\n",
       "       [-11,   0,  20],\n",
       "       [-18, -23,  -9]])"
      ]
     },
     "metadata": {},
     "output_type": "display_data"
    },
    {
     "data": {
      "text/plain": [
       "array([[19, 14, 18],\n",
       "       [17,  8, 23],\n",
       "       [11,  0, 20],\n",
       "       [18, 23,  9]])"
      ]
     },
     "execution_count": 58,
     "metadata": {},
     "output_type": "execute_result"
    }
   ],
   "source": [
    "arr_neg = np.random.randint(-25, 25, (4, 3))\n",
    "display(arr_neg)\n",
    "\n",
    "np.abs(arr_neg)"
   ]
  },
  {
   "cell_type": "code",
   "execution_count": 67,
   "metadata": {},
   "outputs": [
    {
     "data": {
      "text/plain": [
       "array([ 90, 160,  45, 155,  55, 145])"
      ]
     },
     "metadata": {},
     "output_type": "display_data"
    },
    {
     "data": {
      "text/plain": [
       "array([ 8100, 25600,  2025, 24025,  3025, 21025], dtype=int32)"
      ]
     },
     "execution_count": 67,
     "metadata": {},
     "output_type": "execute_result"
    }
   ],
   "source": [
    "display(arr_stat_1d)\n",
    "np.add(arr_stat_1d, 10) # +\n",
    "np.subtract(arr_stat_1d, 10) # -\n",
    "np.multiply(arr_stat_1d, 10) # *\n",
    "np.divide(arr_stat_1d, 10) # /\n",
    "\n",
    "arr_stat_1d // 9\n",
    "arr_stat_1d % 9\n",
    "\n",
    "np.power(arr_stat_1d, 2) # **"
   ]
  },
  {
   "cell_type": "code",
   "execution_count": 69,
   "metadata": {},
   "outputs": [
    {
     "data": {
      "text/plain": [
       "array([[0, 7, 0, 2, 1, 1],\n",
       "       [8, 8, 8, 1, 0, 0]], dtype=int32)"
      ]
     },
     "execution_count": 69,
     "metadata": {},
     "output_type": "execute_result"
    }
   ],
   "source": [
    "np.add(arr_stat_2d, 10)\n",
    "arr_stat_2d % 9"
   ]
  },
  {
   "cell_type": "code",
   "execution_count": 70,
   "metadata": {},
   "outputs": [
    {
     "data": {
      "text/plain": [
       "array([ 8100, 25600,  2025, 24025,  3025, 21025])"
      ]
     },
     "execution_count": 70,
     "metadata": {},
     "output_type": "execute_result"
    }
   ],
   "source": [
    "np.multiply(arr_stat_1d, arr_stat_1d)"
   ]
  },
  {
   "cell_type": "code",
   "execution_count": 73,
   "metadata": {},
   "outputs": [
    {
     "data": {
      "text/plain": [
       "array([[ 90, 160,  45, 155,  55, 145],\n",
       "       [ 80, 170,  35, 145,  45, 135]])"
      ]
     },
     "metadata": {},
     "output_type": "display_data"
    },
    {
     "data": {
      "text/plain": [
       "array([ 90, 160,  45, 155,  55, 145])"
      ]
     },
     "metadata": {},
     "output_type": "display_data"
    },
    {
     "data": {
      "text/plain": [
       "array([[ 8100, 25600,  2025, 24025,  3025, 21025],\n",
       "       [ 7200, 27200,  1575, 22475,  2475, 19575]])"
      ]
     },
     "execution_count": 73,
     "metadata": {},
     "output_type": "execute_result"
    }
   ],
   "source": [
    "display(arr_stat_2d)\n",
    "display(arr_stat_1d)\n",
    "np.multiply(arr_stat_2d, arr_stat_1d)"
   ]
  },
  {
   "cell_type": "code",
   "execution_count": 75,
   "metadata": {},
   "outputs": [
    {
     "data": {
      "text/plain": [
       "array([[180, 320,  90, 310, 110, 290],\n",
       "       [170, 330,  80, 300, 100, 280]])"
      ]
     },
     "execution_count": 75,
     "metadata": {},
     "output_type": "execute_result"
    }
   ],
   "source": [
    "np.add(arr_stat_2d, arr_stat_1d)\n",
    "np.add(arr_stat_1d, arr_stat_2d)"
   ]
  },
  {
   "cell_type": "code",
   "execution_count": 87,
   "metadata": {},
   "outputs": [
    {
     "ename": "ValueError",
     "evalue": "operands could not be broadcast together with shapes (2,6) (3,) ",
     "output_type": "error",
     "traceback": [
      "\u001b[1;31m---------------------------------------------------------------------------\u001b[0m",
      "\u001b[1;31mValueError\u001b[0m                                Traceback (most recent call last)",
      "Cell \u001b[1;32mIn[87], line 1\u001b[0m\n\u001b[1;32m----> 1\u001b[0m \u001b[43mnp\u001b[49m\u001b[38;5;241;43m.\u001b[39;49m\u001b[43madd\u001b[49m\u001b[43m(\u001b[49m\u001b[43marr_stat_2d\u001b[49m\u001b[43m,\u001b[49m\u001b[43m \u001b[49m\u001b[43mnp\u001b[49m\u001b[38;5;241;43m.\u001b[39;49m\u001b[43marray\u001b[49m\u001b[43m(\u001b[49m\u001b[43m[\u001b[49m\u001b[38;5;241;43m23\u001b[39;49m\u001b[43m,\u001b[49m\u001b[43m \u001b[49m\u001b[38;5;241;43m33\u001b[39;49m\u001b[43m,\u001b[49m\u001b[43m \u001b[49m\u001b[38;5;241;43m43\u001b[39;49m\u001b[43m]\u001b[49m\u001b[43m)\u001b[49m\u001b[43m)\u001b[49m\n",
      "\u001b[1;31mValueError\u001b[0m: operands could not be broadcast together with shapes (2,6) (3,) "
     ]
    }
   ],
   "source": [
    "np.add(arr_stat_2d, np.array([23, 33, 43]))"
   ]
  },
  {
   "cell_type": "markdown",
   "metadata": {},
   "source": [
    "### NaN : Not a Number"
   ]
  },
  {
   "cell_type": "code",
   "execution_count": 81,
   "metadata": {},
   "outputs": [
    {
     "data": {
      "text/plain": [
       "5.4"
      ]
     },
     "execution_count": 81,
     "metadata": {},
     "output_type": "execute_result"
    }
   ],
   "source": [
    "np.nan\n",
    "arr_nan = np.array([np.nan, 1, 23, np.nan])\n",
    "arr_nan\n",
    "np.mean(arr_nan)\n",
    "np.nanmean(arr_nan)\n",
    "\n",
    "np.percentile(arr_nan, 20)\n",
    "np.nanpercentile(arr_nan, 20)"
   ]
  },
  {
   "cell_type": "code",
   "execution_count": 86,
   "metadata": {},
   "outputs": [
    {
     "data": {
      "text/plain": [
       "50.0"
      ]
     },
     "execution_count": 86,
     "metadata": {},
     "output_type": "execute_result"
    }
   ],
   "source": [
    "np.isnan(arr_nan)\n",
    "np.isnan(arr_nan).sum()\n",
    "np.sum(np.isnan(arr_nan))\n",
    "np.isnan(arr_nan).mean() *100"
   ]
  }
 ],
 "metadata": {
  "kernelspec": {
   "display_name": "Python 3",
   "language": "python",
   "name": "python3"
  },
  "language_info": {
   "codemirror_mode": {
    "name": "ipython",
    "version": 3
   },
   "file_extension": ".py",
   "mimetype": "text/x-python",
   "name": "python",
   "nbconvert_exporter": "python",
   "pygments_lexer": "ipython3",
   "version": "3.9.13"
  }
 },
 "nbformat": 4,
 "nbformat_minor": 2
}
