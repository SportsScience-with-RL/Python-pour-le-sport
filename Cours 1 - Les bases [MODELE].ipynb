{
 "cells": [
  {
   "cell_type": "markdown",
   "metadata": {},
   "source": [
    "# Introduction à Python"
   ]
  },
  {
   "cell_type": "markdown",
   "metadata": {},
   "source": [
    "## 1. Variables et types de variable/donnée"
   ]
  },
  {
   "cell_type": "markdown",
   "metadata": {},
   "source": [
    "### 1.1 Variables\n",
    "Comprendre l'attribution d'une valeur à un nom"
   ]
  },
  {
   "cell_type": "code",
   "execution_count": 1,
   "metadata": {},
   "outputs": [],
   "source": [
    "#Variable ne commence pas par un chiffre\n",
    "\n",
    "#Variable en minuscule\n",
    "\n",
    "#Attention aux fonctions built-in "
   ]
  },
  {
   "cell_type": "code",
   "execution_count": null,
   "metadata": {},
   "outputs": [],
   "source": []
  },
  {
   "cell_type": "markdown",
   "metadata": {},
   "source": [
    "### 1.2 Types\n",
    "Identifier les types de variables et comment les modifier"
   ]
  },
  {
   "cell_type": "code",
   "execution_count": 3,
   "metadata": {},
   "outputs": [],
   "source": [
    "var_int = 1\n",
    "\n",
    "var_float = 2.5\n",
    "\n",
    "var_str = 'jeux olympiques'\n",
    "var_str2 = \"jeux paralympiques\"\n",
    "# var_str_apo = 'jeux d'été'\n",
    "var_str_accent2 = \"jeux d'été\"\n",
    "\n",
    "var_bool = False"
   ]
  },
  {
   "cell_type": "code",
   "execution_count": 4,
   "metadata": {},
   "outputs": [],
   "source": [
    "#Attention aux chiffres 'texte'\n",
    "var_str_int = \"10\""
   ]
  },
  {
   "cell_type": "code",
   "execution_count": null,
   "metadata": {},
   "outputs": [],
   "source": [
    "#type()\n",
    "\n",
    "#Modifications\n",
    "#int()\n",
    "\n",
    "#str()\n",
    "\n",
    "#float()"
   ]
  },
  {
   "cell_type": "markdown",
   "metadata": {},
   "source": [
    "## 2. Variables textes\n",
    "Comprendre comment manipuler et intégrer une variable dans un schéma automatisé"
   ]
  },
  {
   "cell_type": "code",
   "execution_count": null,
   "metadata": {},
   "outputs": [],
   "source": [
    "#len()"
   ]
  },
  {
   "cell_type": "markdown",
   "metadata": {},
   "source": [
    "### 2.1 Méthodes"
   ]
  },
  {
   "cell_type": "code",
   "execution_count": null,
   "metadata": {},
   "outputs": [],
   "source": [
    "#upper() lower() capitalize()\n",
    "\n",
    "#startswith() endswith()\n",
    "\n",
    "\n",
    "#split() join() replace() strip()\n",
    "\n",
    "#zfill()"
   ]
  },
  {
   "cell_type": "markdown",
   "metadata": {},
   "source": [
    "### 2.2 Index"
   ]
  },
  {
   "cell_type": "code",
   "execution_count": null,
   "metadata": {},
   "outputs": [],
   "source": [
    "#index du caractère"
   ]
  },
  {
   "cell_type": "code",
   "execution_count": null,
   "metadata": {},
   "outputs": [],
   "source": [
    "#Somme de textes\n",
    "\n",
    "#f'{}'"
   ]
  },
  {
   "cell_type": "code",
   "execution_count": null,
   "metadata": {},
   "outputs": [],
   "source": [
    "#in -> True/False"
   ]
  },
  {
   "cell_type": "markdown",
   "metadata": {},
   "source": [
    "Exercice<br>\n",
    "Récupérer le nombre de médailles dans la phrase (au format int)"
   ]
  },
  {
   "cell_type": "code",
   "execution_count": null,
   "metadata": {},
   "outputs": [],
   "source": [
    "phrase = 'Durant les Jeux de Paris, la délégation française a otbenu un total de 64 médailles'"
   ]
  },
  {
   "cell_type": "markdown",
   "metadata": {},
   "source": [
    "## 3. Variables numériques\n",
    "Comprendre la manipulation des variables numériques entre elles"
   ]
  },
  {
   "cell_type": "markdown",
   "metadata": {},
   "source": [
    "### 3.1 Opérations mathématiques"
   ]
  },
  {
   "cell_type": "code",
   "execution_count": 15,
   "metadata": {},
   "outputs": [],
   "source": []
  },
  {
   "cell_type": "code",
   "execution_count": null,
   "metadata": {},
   "outputs": [],
   "source": [
    "#Addition +\n",
    "\n",
    "#Soustraction -\n",
    "\n",
    "#Multiplication *\n",
    "\n",
    "#Division /\n",
    "\n",
    "#Quotient de la division euclidienne //\n",
    "\n",
    "#Reste de la division euclidienne %\n",
    "\n",
    "#Puissance **"
   ]
  },
  {
   "cell_type": "code",
   "execution_count": null,
   "metadata": {},
   "outputs": [],
   "source": [
    "#Arrondi round()"
   ]
  },
  {
   "cell_type": "markdown",
   "metadata": {},
   "source": [
    "## 4. Opérateurs logiques\n",
    "Comprendre la notion de condition"
   ]
  },
  {
   "cell_type": "code",
   "execution_count": 18,
   "metadata": {},
   "outputs": [],
   "source": []
  },
  {
   "cell_type": "code",
   "execution_count": null,
   "metadata": {},
   "outputs": [],
   "source": [
    "#Egalité ==\n",
    "\n",
    "#Différence !=\n",
    "\n",
    "#Inférieur\n",
    "\n",
    "#Supérieur\n",
    "\n",
    "#Supérieur ou égal\n",
    "\n",
    "#Inférieur ou égal"
   ]
  },
  {
   "cell_type": "code",
   "execution_count": null,
   "metadata": {},
   "outputs": [],
   "source": [
    "#Et and &\n",
    "\n",
    "#Ou or |\n",
    "\n",
    "#Non not"
   ]
  },
  {
   "cell_type": "markdown",
   "metadata": {},
   "source": [
    "Exercice<br>\n",
    "<br>- Retrouver le nombre de médailles dans la phrase (en format int)\n",
    "<br>- Indication : ne pas rechercher '64', plutôt les caractère avant 'médailles'\n",
    "<br>- Retourner la réponse de condition si le compte est supérieur à celui de Pékin ET si le compte est égal à celui de Londres"
   ]
  },
  {
   "cell_type": "code",
   "execution_count": null,
   "metadata": {},
   "outputs": [],
   "source": [
    "phrase = 'Durant les Jeux de Paris, la délégation française a otbenu un total de 64 médailles'\n",
    "pekin_count = 43\n",
    "londres_count = 35"
   ]
  },
  {
   "cell_type": "markdown",
   "metadata": {},
   "source": [
    "## 5. Listes\n",
    "Comprendre le fonctionnement des listes"
   ]
  },
  {
   "cell_type": "markdown",
   "metadata": {},
   "source": [
    "### 5.1 Création de liste"
   ]
  },
  {
   "cell_type": "code",
   "execution_count": null,
   "metadata": {},
   "outputs": [],
   "source": [
    "#Création d'une liste à la main\n",
    "\n",
    "#Rappel .split()\n",
    "\n",
    "#Création d'une liste vide à \"alimenter\" .insert()"
   ]
  },
  {
   "cell_type": "code",
   "execution_count": null,
   "metadata": {},
   "outputs": [],
   "source": [
    "#.append() .extend() .remove()\n"
   ]
  },
  {
   "cell_type": "markdown",
   "metadata": {},
   "source": [
    "### 5.2 Index"
   ]
  },
  {
   "cell_type": "code",
   "execution_count": null,
   "metadata": {},
   "outputs": [],
   "source": [
    "#Retrouver une élèment par son index\n",
    "\n",
    "#Modifier un élème par son index\n",
    "\n",
    "#Slicing\n",
    "\n",
    "#Création d'une \"sous liste\" à partir d'une liste\n",
    "\n",
    "#Bonus"
   ]
  },
  {
   "cell_type": "code",
   "execution_count": null,
   "metadata": {},
   "outputs": [],
   "source": [
    "#Index liste dans une liste"
   ]
  },
  {
   "cell_type": "markdown",
   "metadata": {},
   "source": [
    "### 5.3 Méthodes et Fonctions"
   ]
  },
  {
   "cell_type": "code",
   "execution_count": null,
   "metadata": {},
   "outputs": [],
   "source": [
    "#.count()\n",
    "\n",
    "#.index()\n",
    "\n",
    "#sorted()\n",
    "\n",
    "#Bonus"
   ]
  },
  {
   "cell_type": "markdown",
   "metadata": {},
   "source": [
    "Exercice<br>\n",
    "Ajouter les éléments de la liste dans la phrase (au bon endroit)"
   ]
  },
  {
   "cell_type": "code",
   "execution_count": null,
   "metadata": {},
   "outputs": [],
   "source": [
    "list_mots = ['Paris', ['or', 'rugby']]\n",
    "phrase = f\"Durant les JO de {}, l'équipe de {} à 7 a obtenu sa première médaille d'{}\""
   ]
  },
  {
   "cell_type": "markdown",
   "metadata": {},
   "source": [
    "## 6. Tuples\n",
    "Comprendre le fonctionnnement des tuples"
   ]
  },
  {
   "cell_type": "code",
   "execution_count": null,
   "metadata": {},
   "outputs": [],
   "source": [
    "\n"
   ]
  },
  {
   "cell_type": "markdown",
   "metadata": {},
   "source": [
    "## 7. Dictionnaires\n",
    "Comprendre le fonctionnement des dictionnaires"
   ]
  },
  {
   "cell_type": "code",
   "execution_count": 31,
   "metadata": {},
   "outputs": [],
   "source": [
    "#Notion de key et value\n",
    "\n",
    "#Alimenter un dictionnaire"
   ]
  },
  {
   "cell_type": "markdown",
   "metadata": {},
   "source": [
    "Exercice<br>\n",
    "Ajouter les valeurs du dictionnaire dans la phrase (au bon endroit)"
   ]
  },
  {
   "cell_type": "code",
   "execution_count": null,
   "metadata": {},
   "outputs": [],
   "source": [
    "dict_mots = {'organisation': ['Paris', 2024],\n",
    "             'médaille': 'or',\n",
    "             'sport': 'judo'}\n",
    "\n",
    "phrase = f\"Durant les JO de {} {}, le {} a remporté une médaille d'{} en combats par équipe\""
   ]
  },
  {
   "cell_type": "markdown",
   "metadata": {},
   "source": [
    "Exercice<br>\n",
    "Alimenter le dictionnaire à l'aide de la phrase<br>\n",
    "Indication : les clés sont 'nom_complet' (nom en majuscule), 'sport', 'medaille' (doit être une liste avec deux informations : type de médaille et nombre entier)"
   ]
  },
  {
   "cell_type": "code",
   "execution_count": null,
   "metadata": {},
   "outputs": [],
   "source": [
    "phrase = \"Teddy Riner a remporté 2 médailles d'or en Judo\""
   ]
  },
  {
   "cell_type": "markdown",
   "metadata": {},
   "source": [
    "## 8. Les structures conditionnelles"
   ]
  },
  {
   "cell_type": "markdown",
   "metadata": {},
   "source": [
    "Comprendre les structures conditionnelles if, elif, else"
   ]
  },
  {
   "cell_type": "markdown",
   "metadata": {},
   "source": [
    "### 8.1 Conditions avec un opérateur logique"
   ]
  },
  {
   "cell_type": "code",
   "execution_count": 37,
   "metadata": {},
   "outputs": [],
   "source": []
  },
  {
   "cell_type": "markdown",
   "metadata": {},
   "source": [
    "### 8.2 Conditions avec plusieurs opérateurs logiques"
   ]
  },
  {
   "cell_type": "code",
   "execution_count": null,
   "metadata": {},
   "outputs": [],
   "source": []
  },
  {
   "cell_type": "markdown",
   "metadata": {},
   "source": [
    "## 9. Boucles"
   ]
  },
  {
   "cell_type": "markdown",
   "metadata": {},
   "source": [
    "Comprender la structure et le fonctionnement des boucles"
   ]
  },
  {
   "cell_type": "markdown",
   "metadata": {},
   "source": [
    "### 9.1 For"
   ]
  },
  {
   "cell_type": "code",
   "execution_count": null,
   "metadata": {},
   "outputs": [],
   "source": []
  },
  {
   "cell_type": "markdown",
   "metadata": {},
   "source": [
    "#### 9.1.1 Range"
   ]
  },
  {
   "cell_type": "code",
   "execution_count": null,
   "metadata": {},
   "outputs": [],
   "source": []
  },
  {
   "cell_type": "markdown",
   "metadata": {},
   "source": [
    "### 9.3 List comprehension / Vectorisation"
   ]
  },
  {
   "cell_type": "code",
   "execution_count": null,
   "metadata": {},
   "outputs": [],
   "source": []
  },
  {
   "cell_type": "markdown",
   "metadata": {},
   "source": [
    "Exercices<br>\n",
    "1) A l'aide de la vectorisation créer une condition d'appartenance à 'Pro' ou 'U20' selon la valeur de l'âge\n",
    "2) Pour chaque mot dans la liste : créer un résultat de condition si le mot est plus ou moins long que 5 caractères et ajouter ce résultat dans un dictionnaire avec pour clé le mot"
   ]
  },
  {
   "cell_type": "code",
   "execution_count": null,
   "metadata": {},
   "outputs": [],
   "source": [
    "#1\n",
    "list_ages = [12, 23, 18, 34, 27, 13, 20]\n",
    "\n",
    "#2\n",
    "phrase = \"Teddy Riner a remporté 2 médailles d'or en Judo\""
   ]
  },
  {
   "cell_type": "markdown",
   "metadata": {},
   "source": [
    "### 9.4 While"
   ]
  },
  {
   "cell_type": "code",
   "execution_count": null,
   "metadata": {},
   "outputs": [],
   "source": []
  },
  {
   "cell_type": "markdown",
   "metadata": {},
   "source": [
    "### 9.5 zip et enumerate"
   ]
  },
  {
   "cell_type": "code",
   "execution_count": null,
   "metadata": {},
   "outputs": [],
   "source": []
  },
  {
   "cell_type": "markdown",
   "metadata": {},
   "source": [
    "Exercice<br>\n",
    "A l'aide des listes de prénoms d'athlètes, de sports et d'âges : créer un dictionnaire de 4 athlètes maximum ayant pour clé le prénom de l'athlète et comme valeur un deuxième dictionnaire avec pour clés 'sport', 'age', 'categorie' (+ ou - de 25 ans)"
   ]
  },
  {
   "cell_type": "code",
   "execution_count": null,
   "metadata": {},
   "outputs": [],
   "source": [
    "list_ath = ['Antoine', 'Pauline', 'Cassandre', 'Léon', 'Teddy', 'Félix']\n",
    "list_ages = [27, 32, 27, 22, 35, 17]\n",
    "list_sport = ['rugby', 'VTT', 'Triathlon', 'Natation', 'Judo', 'Tennis de table']"
   ]
  },
  {
   "cell_type": "markdown",
   "metadata": {},
   "source": [
    "## 10. Fonctions\n",
    "Comprendre la construction d'une fonction"
   ]
  },
  {
   "cell_type": "code",
   "execution_count": 77,
   "metadata": {},
   "outputs": [],
   "source": []
  },
  {
   "cell_type": "markdown",
   "metadata": {},
   "source": [
    "### 10.1 Fonctions à une sortie"
   ]
  },
  {
   "cell_type": "code",
   "execution_count": 78,
   "metadata": {},
   "outputs": [],
   "source": [
    "#Notions d'arguments en dehors de la fonction et dans la fonction"
   ]
  },
  {
   "cell_type": "code",
   "execution_count": null,
   "metadata": {},
   "outputs": [],
   "source": [
    "#Arguments avec valeur par défaut si non attribuée"
   ]
  },
  {
   "cell_type": "markdown",
   "metadata": {},
   "source": [
    "### 10.2 Fonctions à plusieurs sorties"
   ]
  },
  {
   "cell_type": "code",
   "execution_count": null,
   "metadata": {},
   "outputs": [],
   "source": []
  },
  {
   "cell_type": "markdown",
   "metadata": {},
   "source": [
    "Exercice<br>\n",
    "Créer une fonction calculant le quotient entre 2 arguments (numérateur et dénominateur). Ajouter une condition si le dénominateur est égal à 0 : 'division par 0 impossible'. La sortie de la fonction doit être soit la valeur de la condition soit le résultat du quotient"
   ]
  },
  {
   "cell_type": "code",
   "execution_count": null,
   "metadata": {},
   "outputs": [],
   "source": []
  },
  {
   "cell_type": "markdown",
   "metadata": {},
   "source": [
    "# Exercice final :<br>Créer une fonction pour imprimer une fiche de sportif\n",
    "La fonction doit comprendre 3 arguments :<br>\n",
    "- Un dictionnaire avec les informations du sportif (nom, prénom, âge, poids, sexe M ou F)<br>\n",
    "- Le sport du sportif (en minuscule)<br>\n",
    "- Une liste de résultats à des tests : Squat (nombre entier), 30-15 (décimal arrondi à 1 chiffre), Bronco (décimal arrondi à 1 chiffre) et 20m sprint (décimal arrondi à 1 chiffre).<br>\n",
    "\n",
    "A l'appel de la fonction doit apparaitre une fiche du type :<br>\n",
    "<br>Nom complet : *(Prénom + NOM)*\n",
    "<br>Age : *(valeur)* ans\n",
    "<br>Poids : *(valeur)* kg\n",
    "<br>Sport : *(première lettre en majuscule)*\n",
    "<br>Identifiant : *(sexe en majuscule + les initiales du nom et prénoms en majuscule + âge + la première lettre du sport en majuscule)*\n",
    "<br>Résultats des tests :\n",
    "<br>Squat : *(valeur)* kg - Ratio *(ratio avec pdc arrondi à une décimale)*\n",
    "<br>30-15 : X,X km/h de VMA\n",
    "<br>Bronco : *(au format XminYsec)*\n",
    "<br>20m sprint : *(au format X'X)*\n",
    "\n",
    "Indications supplémentaires : <br>\n",
    "- Dans le cas d'un prénom ou nom composé, les initiales des deux prénoms ou noms doivent apparaitre dans l'identifiant (indice : chercher ' ' ou '-')\n",
    "- Le résultat du Bronco doit être converti : par exemple 3,2 correspond à 3min12sec..."
   ]
  },
  {
   "cell_type": "code",
   "execution_count": null,
   "metadata": {},
   "outputs": [],
   "source": []
  },
  {
   "cell_type": "code",
   "execution_count": 101,
   "metadata": {},
   "outputs": [],
   "source": [
    "dict_s = {'nom': 'Dupont',\n",
    "          'prenom': 'Antoine',\n",
    "          'poids': 92,\n",
    "          'age': 27,\n",
    "          'sexe': 'M'}\n",
    "\n",
    "sport_s = 'rugby'\n",
    "tests_s = [180, 17.8, 4.2, 2.3]"
   ]
  },
  {
   "cell_type": "markdown",
   "metadata": {},
   "source": [
    "# Bonus"
   ]
  },
  {
   "cell_type": "code",
   "execution_count": null,
   "metadata": {},
   "outputs": [],
   "source": []
  }
 ],
 "metadata": {
  "kernelspec": {
   "display_name": "Python 3",
   "language": "python",
   "name": "python3"
  },
  "language_info": {
   "codemirror_mode": {
    "name": "ipython",
    "version": 3
   },
   "file_extension": ".py",
   "mimetype": "text/x-python",
   "name": "python",
   "nbconvert_exporter": "python",
   "pygments_lexer": "ipython3",
   "version": "3.9.13"
  }
 },
 "nbformat": 4,
 "nbformat_minor": 2
}
