{
 "cells": [
  {
   "cell_type": "markdown",
   "metadata": {},
   "source": [
    "# Introduction à Python"
   ]
  },
  {
   "cell_type": "markdown",
   "metadata": {},
   "source": [
    "## 1. Variables et types de variable/donnée"
   ]
  },
  {
   "cell_type": "markdown",
   "metadata": {},
   "source": [
    "### 1.1 Variables\n",
    "Comprendre l'attribution d'une valeur à un nom"
   ]
  },
  {
   "cell_type": "code",
   "execution_count": 1,
   "metadata": {},
   "outputs": [
    {
     "ename": "SyntaxError",
     "evalue": "invalid syntax (334357878.py, line 2)",
     "output_type": "error",
     "traceback": [
      "\u001b[1;36m  Cell \u001b[1;32mIn[1], line 2\u001b[1;36m\u001b[0m\n\u001b[1;33m    10zidane =\u001b[0m\n\u001b[1;37m      ^\u001b[0m\n\u001b[1;31mSyntaxError\u001b[0m\u001b[1;31m:\u001b[0m invalid syntax\n"
     ]
    }
   ],
   "source": [
    "#Variable ne commence pas par un chiffre\n",
    "10zidane = \n",
    "zidane10 =\n",
    "\n",
    "#Variable en minuscule\n",
    "jo2024 =\n",
    "JO2024 =\n",
    "\n",
    "jo_2024 =\n",
    "jo-2024 = \n",
    "\n",
    "#Attention aux fonctions built-in \n",
    "round()\n",
    "min()\n",
    "max()\n",
    "\n",
    "round_ =\n",
    "max_ =\n",
    "min_ ="
   ]
  },
  {
   "cell_type": "code",
   "execution_count": 1,
   "metadata": {},
   "outputs": [
    {
     "data": {
      "text/plain": [
       "30"
      ]
     },
     "execution_count": 1,
     "metadata": {},
     "output_type": "execute_result"
    }
   ],
   "source": [
    "var_chiffre = 10\n",
    "var_chiffre\n",
    "\n",
    "var_chiffre = 30\n",
    "var_chiffre"
   ]
  },
  {
   "cell_type": "markdown",
   "metadata": {},
   "source": [
    "### 1.2 Types\n",
    "Identifier les types de variables et comment les modifier"
   ]
  },
  {
   "cell_type": "code",
   "execution_count": 3,
   "metadata": {},
   "outputs": [],
   "source": [
    "var_int = 1\n",
    "\n",
    "var_float = 2.5\n",
    "\n",
    "var_str = 'jeux olympiques'\n",
    "var_str2 = \"jeux paralympiques\"\n",
    "# var_str_apo = 'jeux d'été'\n",
    "var_str_accent2 = \"jeux d'été\"\n",
    "\n",
    "var_bool = False"
   ]
  },
  {
   "cell_type": "code",
   "execution_count": 4,
   "metadata": {},
   "outputs": [],
   "source": [
    "#Attention aux chiffres 'texte'\n",
    "var_str_int = \"10\""
   ]
  },
  {
   "cell_type": "code",
   "execution_count": 5,
   "metadata": {},
   "outputs": [
    {
     "ename": "ValueError",
     "evalue": "could not convert string to float: 'jeux olympiques'",
     "output_type": "error",
     "traceback": [
      "\u001b[1;31m---------------------------------------------------------------------------\u001b[0m",
      "\u001b[1;31mValueError\u001b[0m                                Traceback (most recent call last)",
      "Cell \u001b[1;32mIn[5], line 18\u001b[0m\n\u001b[0;32m     16\u001b[0m \u001b[38;5;28mfloat\u001b[39m(var_int)\n\u001b[0;32m     17\u001b[0m \u001b[38;5;28mfloat\u001b[39m(var_str_int)\n\u001b[1;32m---> 18\u001b[0m \u001b[38;5;28;43mfloat\u001b[39;49m\u001b[43m(\u001b[49m\u001b[43mvar_str\u001b[49m\u001b[43m)\u001b[49m\n",
      "\u001b[1;31mValueError\u001b[0m: could not convert string to float: 'jeux olympiques'"
     ]
    }
   ],
   "source": [
    "#type()\n",
    "type(var_int)\n",
    "type(var_float)\n",
    "type(var_str)\n",
    "type(var_str_int)\n",
    "\n",
    "#Modifications\n",
    "#int()\n",
    "type(int(var_str_int))\n",
    "int(var_float)\n",
    "\n",
    "#str()\n",
    "type(str(var_float))\n",
    "\n",
    "#float()\n",
    "float(var_int)\n",
    "float(var_str_int)\n",
    "float(var_str)"
   ]
  },
  {
   "cell_type": "code",
   "execution_count": 7,
   "metadata": {},
   "outputs": [
    {
     "data": {
      "text/plain": [
       "'2.4'"
      ]
     },
     "execution_count": 7,
     "metadata": {},
     "output_type": "execute_result"
    }
   ],
   "source": [
    "var_dcl = 2.40\n",
    "str(var_dcl)"
   ]
  },
  {
   "cell_type": "code",
   "execution_count": 8,
   "metadata": {},
   "outputs": [
    {
     "name": "stdout",
     "output_type": "stream",
     "text": [
      "2.4\n",
      "10\n"
     ]
    }
   ],
   "source": [
    "#Fonction print()\n",
    "print(var_dcl)\n",
    "print(var_str_int)"
   ]
  },
  {
   "cell_type": "markdown",
   "metadata": {},
   "source": [
    "## 2. Variables textes\n",
    "Comprendre comment manipuler et intégrer une variable dans un schéma automatisé"
   ]
  },
  {
   "cell_type": "code",
   "execution_count": 9,
   "metadata": {},
   "outputs": [
    {
     "data": {
      "text/plain": [
       "2"
      ]
     },
     "execution_count": 9,
     "metadata": {},
     "output_type": "execute_result"
    }
   ],
   "source": [
    "#len()\n",
    "len(var_str)\n",
    "len(var_str_int)"
   ]
  },
  {
   "cell_type": "markdown",
   "metadata": {},
   "source": [
    "### 2.1 Méthodes"
   ]
  },
  {
   "cell_type": "code",
   "execution_count": 10,
   "metadata": {},
   "outputs": [
    {
     "data": {
      "text/plain": [
       "10"
      ]
     },
     "execution_count": 10,
     "metadata": {},
     "output_type": "execute_result"
    }
   ],
   "source": [
    "#upper() lower() capitalize()\n",
    "var_str\n",
    "var_str.upper()\n",
    "var_str.lower()\n",
    "var_str.capitalize()\n",
    "\n",
    "#startswith() endswith()\n",
    "var_str.startswith('j')\n",
    "var_str.endswith('s')\n",
    "\n",
    "var_str_int\n",
    "var_str_int.endswith('0')\n",
    "\n",
    "#split() join() replace() strip()\n",
    "var_str.split('eu')\n",
    "'-'.join(var_str)\n",
    "\n",
    "var_str.replace(' ', '?')\n",
    "\n",
    "var_str_strip = \"     Médailles d'or  \"\n",
    "var_str_strip.strip()\n",
    "\n",
    "#zfill()\n",
    "var_str.zfill(25)\n",
    "var_str_int.zfill(7)\n",
    "int(var_str_int.zfill(7))"
   ]
  },
  {
   "cell_type": "markdown",
   "metadata": {},
   "source": [
    "### 2.2 Index"
   ]
  },
  {
   "cell_type": "code",
   "execution_count": 11,
   "metadata": {},
   "outputs": [
    {
     "name": "stdout",
     "output_type": "stream",
     "text": [
      "jeux olympiques\n",
      "j\n",
      "i\n",
      "jeux olympiques\n",
      "jeux\n",
      "x olymp\n",
      "u\n",
      "jeux olympiq\n",
      "seuqipmylo xuej\n"
     ]
    }
   ],
   "source": [
    "#index du caractère\n",
    "print(var_str)\n",
    "print(var_str[0])\n",
    "print(var_str[10])\n",
    "\n",
    "print(var_str[:])\n",
    "print(var_str[:4])\n",
    "print(var_str[3:10])\n",
    "\n",
    "print(var_str[-3])\n",
    "print(var_str[:-3])\n",
    "\n",
    "print(var_str[::-1])"
   ]
  },
  {
   "cell_type": "code",
   "execution_count": 12,
   "metadata": {},
   "outputs": [
    {
     "data": {
      "text/plain": [
       "\"Durant ces Jeux olympiques, la délégation a otenue 55 médailles d'or\""
      ]
     },
     "execution_count": 12,
     "metadata": {},
     "output_type": "execute_result"
    }
   ],
   "source": [
    "#Somme de textes\n",
    "var_str + var_str_int + var_str_strip\n",
    "# var_str + ', ' + var_str_int + ' ' +var_str_strip.strip()\n",
    "\n",
    "nb_gold = 55\n",
    "var_str + str(nb_gold) + var_str_strip\n",
    "var_str + ', ' + str(nb_gold) + ' ' +var_str_strip.strip()\n",
    "\n",
    "\n",
    "var_str.capitalize() + ', ' + str(nb_gold) + ' ' +var_str_strip.strip().lower() + ' pour la délégation X'\n",
    "\n",
    "#f'{}'\n",
    "f'Durant ces {var_str.capitalize()}, la délégation a otenue {nb_gold} {var_str_strip.strip().lower()}'"
   ]
  },
  {
   "cell_type": "code",
   "execution_count": 13,
   "metadata": {},
   "outputs": [
    {
     "data": {
      "text/plain": [
       "\"55 médailles d'or\""
      ]
     },
     "execution_count": 13,
     "metadata": {},
     "output_type": "execute_result"
    }
   ],
   "source": [
    "#in -> True/False\n",
    "gold_count = f'Durant ces {var_str.capitalize()}, la délégation a otenue {nb_gold} {var_str_strip.strip().lower()}'\n",
    "gold_count\n",
    "\n",
    "'55' in gold_count\n",
    "'150' in gold_count\n",
    "\n",
    "str(nb_gold) in gold_count\n",
    "gold_count.index('55')\n",
    "gold_count.index(str(nb_gold))\n",
    "\n",
    "gold_count[51:]"
   ]
  },
  {
   "cell_type": "markdown",
   "metadata": {},
   "source": [
    "Exercice<br>\n",
    "Récupérer le nombre de médailles dans la phrase (au format int)"
   ]
  },
  {
   "cell_type": "code",
   "execution_count": 14,
   "metadata": {},
   "outputs": [
    {
     "data": {
      "text/plain": [
       "64"
      ]
     },
     "execution_count": 14,
     "metadata": {},
     "output_type": "execute_result"
    }
   ],
   "source": [
    "phrase = 'Durant les Jeux de Paris, la délégation française a otbenu un total de 64 médailles'\n",
    "#1\n",
    "str(64) in phrase\n",
    "phrase.index(str(64))\n",
    "\n",
    "int(phrase[71:73])"
   ]
  },
  {
   "cell_type": "markdown",
   "metadata": {},
   "source": [
    "## 3. Variables numériques\n",
    "Comprendre la manipulation des variables numériques entre elles"
   ]
  },
  {
   "cell_type": "markdown",
   "metadata": {},
   "source": [
    "### 3.1 Opérations mathématiques"
   ]
  },
  {
   "cell_type": "code",
   "execution_count": 15,
   "metadata": {},
   "outputs": [],
   "source": [
    "a = 10\n",
    "b = 3"
   ]
  },
  {
   "cell_type": "code",
   "execution_count": 16,
   "metadata": {},
   "outputs": [
    {
     "data": {
      "text/plain": [
       "1000"
      ]
     },
     "execution_count": 16,
     "metadata": {},
     "output_type": "execute_result"
    }
   ],
   "source": [
    "#Addition +\n",
    "a + b\n",
    "c = a + b\n",
    "c\n",
    "\n",
    "#Soustraction -\n",
    "a - b \n",
    "d = a - b \n",
    "d\n",
    "\n",
    "e = 15\n",
    "e += a\n",
    "e -= b\n",
    "e\n",
    "\n",
    "#Multiplication *\n",
    "a * b\n",
    "e *= a\n",
    "e\n",
    "\n",
    "#Division /\n",
    "a / b\n",
    "e /= a\n",
    "e\n",
    "\n",
    "#Quotient de la division euclidienne //\n",
    "f = 17\n",
    "f // b\n",
    "\n",
    "#Reste de la division euclidienne %\n",
    "f % b\n",
    "\n",
    "f //= b\n",
    "f\n",
    "\n",
    "f = 17\n",
    "f %= b\n",
    "f\n",
    "\n",
    "#Puissance **\n",
    "a ** b\n",
    "a **= b\n",
    "a"
   ]
  },
  {
   "cell_type": "code",
   "execution_count": 17,
   "metadata": {},
   "outputs": [
    {
     "data": {
      "text/plain": [
       "1.877"
      ]
     },
     "execution_count": 17,
     "metadata": {},
     "output_type": "execute_result"
    }
   ],
   "source": [
    "#Arrondi round()\n",
    "round(1.5)\n",
    "round(1.41763)\n",
    "round(1.876565, 3)"
   ]
  },
  {
   "cell_type": "markdown",
   "metadata": {},
   "source": [
    "## 4. Opérateurs logiques\n",
    "Comprendre la notion de condition"
   ]
  },
  {
   "cell_type": "code",
   "execution_count": 18,
   "metadata": {},
   "outputs": [],
   "source": [
    "a = 10\n",
    "b = 12\n",
    "c = 10\n",
    "d = 8"
   ]
  },
  {
   "cell_type": "code",
   "execution_count": 19,
   "metadata": {},
   "outputs": [
    {
     "data": {
      "text/plain": [
       "False"
      ]
     },
     "execution_count": 19,
     "metadata": {},
     "output_type": "execute_result"
    }
   ],
   "source": [
    "#Egalité ==\n",
    "a == b\n",
    "a == c \n",
    "a == b == c\n",
    "\n",
    "#Différence !=\n",
    "a != b \n",
    "a != c \n",
    "a != b != c\n",
    "\n",
    "#Inférieur\n",
    "a < b\n",
    "d < a < b\n",
    "\n",
    "#Supérieur\n",
    "a > b\n",
    "\n",
    "#Supérieur ou égal\n",
    "a <= b\n",
    "\n",
    "#Inférieur ou égal\n",
    "a >= b"
   ]
  },
  {
   "cell_type": "code",
   "execution_count": 20,
   "metadata": {},
   "outputs": [
    {
     "data": {
      "text/plain": [
       "True"
      ]
     },
     "execution_count": 20,
     "metadata": {},
     "output_type": "execute_result"
    }
   ],
   "source": [
    "#Et and &\n",
    "(a == c) and (a != b)\n",
    "(a == c) & (a != b)\n",
    "\n",
    "#Ou or |\n",
    "(a == c) or (a == b)\n",
    "(a == c) | (a == b)\n",
    "\n",
    "#Non not\n",
    "(a == c) and not (a == b)\n",
    "(a == c) and not (a != b)\n",
    "#(a == c) & not (a == b)\n",
    "(a == c) or not (d < a)"
   ]
  },
  {
   "cell_type": "markdown",
   "metadata": {},
   "source": [
    "Exercice<br>\n",
    "<br>- Retrouver le nombre de médailles dans la phrase (en format int)\n",
    "<br>- Indication : ne pas rechercher '64', plutôt les caractère avant 'médailles'\n",
    "<br>- Retourner la réponse de condition si le compte est supérieur à celui de Pékin ET si le compte est égal à celui de Londres"
   ]
  },
  {
   "cell_type": "code",
   "execution_count": 21,
   "metadata": {},
   "outputs": [
    {
     "data": {
      "text/plain": [
       "False"
      ]
     },
     "execution_count": 21,
     "metadata": {},
     "output_type": "execute_result"
    }
   ],
   "source": [
    "phrase = 'Durant les Jeux de Paris, la délégation française a otbenu un total de 64 médailles'\n",
    "pekin_count = 43\n",
    "londres_count = 35\n",
    "\n",
    "idx_medailles = phrase.index('médailles')\n",
    "paris_count = int(phrase[idx_medailles-3:idx_medailles-1])\n",
    "\n",
    "answer = (paris_count > pekin_count) and (paris_count == londres_count)\n",
    "answer"
   ]
  },
  {
   "cell_type": "markdown",
   "metadata": {},
   "source": [
    "## 5. Listes\n",
    "Comprendre le fonctionnement des listes"
   ]
  },
  {
   "cell_type": "markdown",
   "metadata": {},
   "source": [
    "### 5.1 Création de liste"
   ]
  },
  {
   "cell_type": "code",
   "execution_count": 22,
   "metadata": {},
   "outputs": [
    {
     "data": {
      "text/plain": [
       "[8, 'nouveau element']"
      ]
     },
     "execution_count": 22,
     "metadata": {},
     "output_type": "execute_result"
    }
   ],
   "source": [
    "#Création d'une liste à la main\n",
    "list_1 = [1, 2, 3]\n",
    "list_1\n",
    "\n",
    "list_2 = [1, 2, 3, 'go!']\n",
    "list_2\n",
    "\n",
    "list_3 = [list_1, list_2, 'autre chose']\n",
    "list_3\n",
    "\n",
    "list_4 = list_1 + list_2\n",
    "list_4\n",
    "\n",
    "#Rappel .split()\n",
    "list_mots = phrase.split()\n",
    "list_mots\n",
    "\n",
    "#Création d'une liste vide à \"alimenter\" .insert()\n",
    "list_1.insert(0, '4')\n",
    "list_1\n",
    "\n",
    "list_vide = []\n",
    "list_vide\n",
    "list_vide.insert(0, 8)\n",
    "list_vide\n",
    "\n",
    "list_vide.insert(len(list_vide), 'nouveau element')\n",
    "list_vide"
   ]
  },
  {
   "cell_type": "code",
   "execution_count": 23,
   "metadata": {},
   "outputs": [
    {
     "data": {
      "text/plain": [
       "['4', 1, 2, 3]"
      ]
     },
     "execution_count": 23,
     "metadata": {},
     "output_type": "execute_result"
    }
   ],
   "source": [
    "list_1"
   ]
  },
  {
   "cell_type": "code",
   "execution_count": 24,
   "metadata": {},
   "outputs": [
    {
     "data": {
      "text/plain": [
       "['4', 1, 2, 3]"
      ]
     },
     "execution_count": 24,
     "metadata": {},
     "output_type": "execute_result"
    }
   ],
   "source": [
    "list_copy = list_1.copy()\n",
    "list_copy\n",
    "list_copy.insert(16, 8)\n",
    "list_copy\n",
    "list_1"
   ]
  },
  {
   "cell_type": "code",
   "execution_count": 25,
   "metadata": {},
   "outputs": [
    {
     "data": {
      "text/plain": [
       "[1, 2, 3, 8, 'e', 'x', 't', 'e', 'n', 'd']"
      ]
     },
     "execution_count": 25,
     "metadata": {},
     "output_type": "execute_result"
    }
   ],
   "source": [
    "#.append() .extend() .remove()\n",
    "list_1.append(7)\n",
    "list_1\n",
    "\n",
    "list_1.extend(list_mots)\n",
    "list_1\n",
    "\n",
    "# list_copy.extend(10)\n",
    "list_copy.extend('extend')\n",
    "list_copy\n",
    "\n",
    "list_copy.remove('4')\n",
    "list_copy\n"
   ]
  },
  {
   "cell_type": "markdown",
   "metadata": {},
   "source": [
    "### 5.2 Index"
   ]
  },
  {
   "cell_type": "code",
   "execution_count": 26,
   "metadata": {},
   "outputs": [
    {
     "data": {
      "text/plain": [
       "'Durant les Jeux de Paris, la délégation française a otbenu un total de 65 médailles'"
      ]
     },
     "execution_count": 26,
     "metadata": {},
     "output_type": "execute_result"
    }
   ],
   "source": [
    "#Retrouver une élèment par son index\n",
    "list_1\n",
    "list_1[0]\n",
    "list_1[-1]\n",
    "\n",
    "#Modifier un élème par son index\n",
    "list_1[-2] = '65'\n",
    "list_1\n",
    "\n",
    "list_1[1] = 'texte'\n",
    "list_1\n",
    "\n",
    "#Slicing\n",
    "list_1[0:2] = [0, 0]\n",
    "list_1\n",
    "list_1[2:4] = [99, 99]\n",
    "list_1\n",
    "\n",
    "#Création d'une \"sous liste\" à partir d'une liste\n",
    "list_phrase = list_1[5:]\n",
    "list_phrase\n",
    "\n",
    "#Bonus\n",
    "' '.join(list_phrase)"
   ]
  },
  {
   "cell_type": "code",
   "execution_count": 27,
   "metadata": {},
   "outputs": [
    {
     "data": {
      "text/plain": [
       "'m'"
      ]
     },
     "execution_count": 27,
     "metadata": {},
     "output_type": "execute_result"
    }
   ],
   "source": [
    "#Index liste dans une liste\n",
    "list_3\n",
    "list_3[0][-1]\n",
    "list_3[0][-1][0]"
   ]
  },
  {
   "cell_type": "markdown",
   "metadata": {},
   "source": [
    "### 5.3 Méthodes et Fonctions"
   ]
  },
  {
   "cell_type": "code",
   "execution_count": 28,
   "metadata": {},
   "outputs": [
    {
     "data": {
      "text/plain": [
       "'un total otbenu médailles les la française délégation de de a Paris, Jeux Durant 65'"
      ]
     },
     "execution_count": 28,
     "metadata": {},
     "output_type": "execute_result"
    }
   ],
   "source": [
    "#.count()\n",
    "list_copy.count(2)\n",
    "\n",
    "#.index()\n",
    "list_copy.index('e')\n",
    "list_copy\n",
    "\n",
    "list_phrase.index('médailles')\n",
    "\n",
    "#sorted()\n",
    "sorted(list_phrase)\n",
    "sorted(list_phrase, reverse=True)\n",
    "\n",
    "#Bonus\n",
    "' '.join(sorted(list_phrase, reverse=True))"
   ]
  },
  {
   "cell_type": "markdown",
   "metadata": {},
   "source": [
    "Exercice<br>\n",
    "Ajouter les éléments de la liste dans la phrase (au bon endroit)"
   ]
  },
  {
   "cell_type": "code",
   "execution_count": 29,
   "metadata": {},
   "outputs": [
    {
     "data": {
      "text/plain": [
       "\"Durant les JO de Paris, l'équipe de rugby à 7 a obtenu sa première médaille d'or\""
      ]
     },
     "execution_count": 29,
     "metadata": {},
     "output_type": "execute_result"
    }
   ],
   "source": [
    "list_mots = ['Paris', ['or', 'rugby']]\n",
    "phrase = f\"Durant les JO de {list_mots[0]}, l'équipe de {list_mots[1][1]} à 7 a obtenu sa première médaille d'{list_mots[1][0]}\"\n",
    "phrase"
   ]
  },
  {
   "cell_type": "markdown",
   "metadata": {},
   "source": [
    "## 6. Tuples\n",
    "Comprendre le fonctionnnement des tuples"
   ]
  },
  {
   "cell_type": "code",
   "execution_count": 30,
   "metadata": {},
   "outputs": [
    {
     "data": {
      "text/plain": [
       "(1, 2, 3, 7, 8)"
      ]
     },
     "execution_count": 30,
     "metadata": {},
     "output_type": "execute_result"
    }
   ],
   "source": [
    "tuple_1 = (1, 2, 3)\n",
    "tuple_1\n",
    "\n",
    "# tuple_1.extend(10)\n",
    "# tuple_1[1] = 7\n",
    "tuple_2 = (7, 8)\n",
    "tuple_3 = (tuple_1, tuple_2)\n",
    "tuple_3\n",
    "\n",
    "tuple_4 = (*tuple_1, *tuple_2)\n",
    "tuple_4\n"
   ]
  },
  {
   "cell_type": "markdown",
   "metadata": {},
   "source": [
    "## 7. Dictionnaires\n",
    "Comprendre le fonctionnement des dictionnaires"
   ]
  },
  {
   "cell_type": "code",
   "execution_count": 31,
   "metadata": {},
   "outputs": [],
   "source": [
    "#Notion de key et value\n",
    "dict_1 = {'clé': 'valeur', 'clé2': 'valeur2', 1: 'clé', 2: 3}\n",
    "dict_1\n",
    "\n",
    "list(dict_1.items())\n",
    "list(dict_1.keys())\n",
    "list(dict_1.values())\n",
    "\n",
    "dict_2 = {'clé_list': [1, 2, 3, 4], 'clé_str': 'valeur texte'}\n",
    "dict_2\n",
    "\n",
    "dict([['1', 'liste']])\n",
    "dict([['1', 'liste'], ['2', 'liste2']])\n",
    "dict([('1', 'liste'), ['2', 'liste2']])\n",
    "\n",
    "dict_1[1]\n",
    "\n",
    "#Alimenter un dictionnaire\n",
    "dict_1['nouvelle clé'] = 'nouvelle valeur'\n",
    "dict_1\n",
    "\n",
    "dict_2['clé_str'] = 'ancienne valeur'"
   ]
  },
  {
   "cell_type": "code",
   "execution_count": 32,
   "metadata": {},
   "outputs": [
    {
     "data": {
      "text/plain": [
       "{'clé': 'valeur',\n",
       " 'clé2': 'valeur2',\n",
       " 1: 'clé',\n",
       " 2: 3,\n",
       " 'nouvelle clé': 'nouvelle valeur',\n",
       " 'clé_list': [1, 2, 3, 4],\n",
       " 'clé_str': 'ancienne valeur'}"
      ]
     },
     "execution_count": 32,
     "metadata": {},
     "output_type": "execute_result"
    }
   ],
   "source": [
    "dict_1.update(dict_2)\n",
    "dict_1"
   ]
  },
  {
   "cell_type": "code",
   "execution_count": 33,
   "metadata": {},
   "outputs": [
    {
     "data": {
      "text/plain": [
       "{'clé': 'valeur',\n",
       " 'clé2': 'valeur2',\n",
       " 1: 'clé',\n",
       " 2: 3,\n",
       " 'nouvelle clé': 'nouvelle valeur',\n",
       " 'clé_list': [1, 2, 3, 4],\n",
       " 'clé_str': 'ancienne valeur',\n",
       " 'dict_2': {'clé_list': [1, 2, 3, 4], 'clé_str': 'ancienne valeur'}}"
      ]
     },
     "execution_count": 33,
     "metadata": {},
     "output_type": "execute_result"
    }
   ],
   "source": [
    "dict_1['dict_2'] = dict_2\n",
    "dict_1"
   ]
  },
  {
   "cell_type": "code",
   "execution_count": 34,
   "metadata": {},
   "outputs": [
    {
     "data": {
      "text/plain": [
       "[1, 2, 3, 4]"
      ]
     },
     "execution_count": 34,
     "metadata": {},
     "output_type": "execute_result"
    }
   ],
   "source": [
    "dict_1['dict_2']['clé_list']"
   ]
  },
  {
   "cell_type": "markdown",
   "metadata": {},
   "source": [
    "Exercice<br>\n",
    "Ajouter les valeurs du dictionnaire dans la phrase (au bon endroit)"
   ]
  },
  {
   "cell_type": "code",
   "execution_count": 35,
   "metadata": {},
   "outputs": [
    {
     "data": {
      "text/plain": [
       "\"Durant les JO de Paris 2024, le judo a remporté une médaille d'or en combats par équipe\""
      ]
     },
     "execution_count": 35,
     "metadata": {},
     "output_type": "execute_result"
    }
   ],
   "source": [
    "dict_mots = {'organisation': ['Paris', 2024],\n",
    "             'médaille': 'or',\n",
    "             'sport': 'judo'}\n",
    "\n",
    "phrase = f\"Durant les JO de {dict_mots['organisation'][0]} {dict_mots['organisation'][1]}, le {dict_mots['sport']} a remporté une médaille d'{dict_mots['médaille']} en combats par équipe\"\n",
    "phrase"
   ]
  },
  {
   "cell_type": "markdown",
   "metadata": {},
   "source": [
    "Exercice<br>\n",
    "Alimenter le dictionnaire à l'aide de la phrase<br>\n",
    "Indication : les clés sont 'nom_complet' (nom en majuscule), 'sport', 'medaille' (doit être une liste avec deux informations : type de médaille et nombre entier)"
   ]
  },
  {
   "cell_type": "code",
   "execution_count": 36,
   "metadata": {},
   "outputs": [
    {
     "data": {
      "text/plain": [
       "{'nom_complet': 'Teddy RINER', 'sport': 'Judo', 'medaille': ['or', 2]}"
      ]
     },
     "execution_count": 36,
     "metadata": {},
     "output_type": "execute_result"
    }
   ],
   "source": [
    "phrase = \"Teddy Riner a remporté 2 médailles d'or en Judo\"\n",
    "dict_ex = {}\n",
    "\n",
    "list_mots = phrase.split()\n",
    "list_mots\n",
    "\n",
    "dict_ex['nom_complet'] = ' '.join([list_mots[0], list_mots[1].upper()])\n",
    "dict_ex['sport'] = list_mots[-1]\n",
    "\n",
    "dict_ex['medaille'] = [list_mots[-3][2:], int(list_mots[4])]\n",
    "dict_ex"
   ]
  },
  {
   "cell_type": "markdown",
   "metadata": {},
   "source": [
    "## 8. Les structures conditionnelles"
   ]
  },
  {
   "cell_type": "markdown",
   "metadata": {},
   "source": [
    "Comprendre les structures conditionnelles if, elif, else"
   ]
  },
  {
   "cell_type": "markdown",
   "metadata": {},
   "source": [
    "### 8.1 Conditions avec un opérateur logique"
   ]
  },
  {
   "cell_type": "code",
   "execution_count": 37,
   "metadata": {},
   "outputs": [],
   "source": [
    "a = 25"
   ]
  },
  {
   "cell_type": "code",
   "execution_count": 38,
   "metadata": {},
   "outputs": [
    {
     "name": "stdout",
     "output_type": "stream",
     "text": [
      "a a une autre valeur que 10\n"
     ]
    }
   ],
   "source": [
    "if a == 10:\n",
    "    print('a est égal à 10')\n",
    "else:\n",
    "    print('a a une autre valeur que 10')"
   ]
  },
  {
   "cell_type": "code",
   "execution_count": 39,
   "metadata": {},
   "outputs": [
    {
     "data": {
      "text/plain": [
       "'a a une autre valeur que 10'"
      ]
     },
     "execution_count": 39,
     "metadata": {},
     "output_type": "execute_result"
    }
   ],
   "source": [
    "result = 'a est égal à 10' if a == 10 else 'a a une autre valeur que 10'\n",
    "result"
   ]
  },
  {
   "cell_type": "markdown",
   "metadata": {},
   "source": [
    "### 8.2 Conditions avec plusieurs opérateurs logiques"
   ]
  },
  {
   "cell_type": "code",
   "execution_count": 40,
   "metadata": {},
   "outputs": [
    {
     "data": {
      "text/plain": [
       "'a a une autre valeur que 10 et est supérieur à 20'"
      ]
     },
     "execution_count": 40,
     "metadata": {},
     "output_type": "execute_result"
    }
   ],
   "source": [
    "if a == 10:\n",
    "    result = 'a est égal à 10'\n",
    "elif a < 20:\n",
    "    result = 'a est inférieur à 20'\n",
    "else:\n",
    "    result = 'a a une autre valeur que 10 et est supérieur à 20'\n",
    "\n",
    "result"
   ]
  },
  {
   "cell_type": "code",
   "execution_count": 41,
   "metadata": {},
   "outputs": [
    {
     "data": {
      "text/plain": [
       "'le mot est dans la phrase'"
      ]
     },
     "execution_count": 41,
     "metadata": {},
     "output_type": "execute_result"
    }
   ],
   "source": [
    "phrase = \"Les valeurs de l'Olympisme\"\n",
    "\n",
    "if 'valeurs' in phrase:\n",
    "    result = 'le mot est dans la phrase'\n",
    "elif 'Olympisme' in phrase:\n",
    "    result = 'le deuxième mot est dans la phrase'\n",
    "else:\n",
    "    result = 'aucun des mots dans la phrase'\n",
    "\n",
    "result"
   ]
  },
  {
   "cell_type": "code",
   "execution_count": 42,
   "metadata": {},
   "outputs": [
    {
     "data": {
      "text/plain": [
       "'deux mots dans la phrase'"
      ]
     },
     "execution_count": 42,
     "metadata": {},
     "output_type": "execute_result"
    }
   ],
   "source": [
    "if ('valeurs' in phrase) and ('Olympisme' in phrase):\n",
    "    result = 'deux mots dans la phrase'\n",
    "else:\n",
    "    result = 'aucun des mots dans la phrase'\n",
    "\n",
    "result"
   ]
  },
  {
   "cell_type": "markdown",
   "metadata": {},
   "source": [
    "## 9. Boucles"
   ]
  },
  {
   "cell_type": "markdown",
   "metadata": {},
   "source": [
    "Comprender la structure et le fonctionnement des boucles"
   ]
  },
  {
   "cell_type": "markdown",
   "metadata": {},
   "source": [
    "### 9.1 For"
   ]
  },
  {
   "cell_type": "code",
   "execution_count": 45,
   "metadata": {},
   "outputs": [
    {
     "name": "stdout",
     "output_type": "stream",
     "text": [
      "Teddy\n",
      "Riner\n",
      "a\n",
      "remporté\n",
      "2\n",
      "médailles\n",
      "d'or\n",
      "en\n",
      "Judo\n"
     ]
    }
   ],
   "source": [
    "for xyz in list_mots:\n",
    "    print(xyz)"
   ]
  },
  {
   "cell_type": "code",
   "execution_count": 46,
   "metadata": {},
   "outputs": [
    {
     "name": "stdout",
     "output_type": "stream",
     "text": [
      "1\n",
      "11\n",
      "1\n",
      "---\n",
      "2\n",
      "12\n",
      "1\n",
      "---\n",
      "3\n",
      "13\n",
      "1\n",
      "---\n"
     ]
    }
   ],
   "source": [
    "for n in [1, 2, 3]:\n",
    "    print(n)\n",
    "    print(n+10)\n",
    "    print(str(n+10)[0])\n",
    "    print('---')"
   ]
  },
  {
   "cell_type": "markdown",
   "metadata": {},
   "source": [
    "#### 9.1.1 Range"
   ]
  },
  {
   "cell_type": "code",
   "execution_count": 48,
   "metadata": {},
   "outputs": [
    {
     "name": "stdout",
     "output_type": "stream",
     "text": [
      "0\n",
      "10\n",
      "---\n",
      "1\n",
      "11\n",
      "---\n",
      "2\n",
      "12\n",
      "---\n",
      "3\n",
      "13\n",
      "---\n",
      "4\n",
      "14\n",
      "---\n",
      "5\n",
      "15\n",
      "---\n",
      "6\n",
      "16\n",
      "---\n",
      "7\n",
      "17\n",
      "---\n",
      "8\n",
      "18\n",
      "---\n",
      "9\n",
      "19\n",
      "---\n"
     ]
    }
   ],
   "source": [
    "for n in range(10):\n",
    "    print(n)\n",
    "    print(n+10)\n",
    "    print('---')"
   ]
  },
  {
   "cell_type": "code",
   "execution_count": 49,
   "metadata": {},
   "outputs": [
    {
     "name": "stdout",
     "output_type": "stream",
     "text": [
      "9\n",
      "8\n",
      "7\n",
      "6\n",
      "5\n",
      "4\n",
      "3\n",
      "2\n",
      "1\n",
      "0\n"
     ]
    }
   ],
   "source": [
    "for n in reversed(range(10)):\n",
    "    print(n)"
   ]
  },
  {
   "cell_type": "code",
   "execution_count": 51,
   "metadata": {},
   "outputs": [
    {
     "name": "stdout",
     "output_type": "stream",
     "text": [
      "1\n",
      "2\n",
      "3\n",
      "4\n",
      "5\n",
      "6\n",
      "7\n",
      "8\n",
      "9\n"
     ]
    }
   ],
   "source": [
    "for n in range(1, 10):\n",
    "    print(n)"
   ]
  },
  {
   "cell_type": "code",
   "execution_count": 52,
   "metadata": {},
   "outputs": [
    {
     "name": "stdout",
     "output_type": "stream",
     "text": [
      "10\n",
      "20\n",
      "30\n",
      "40\n",
      "50\n",
      "60\n",
      "70\n",
      "80\n",
      "90\n",
      "100\n"
     ]
    }
   ],
   "source": [
    "for n in range(10, 101, 10):\n",
    "    print(n)"
   ]
  },
  {
   "cell_type": "code",
   "execution_count": 53,
   "metadata": {},
   "outputs": [
    {
     "name": "stdout",
     "output_type": "stream",
     "text": [
      "0\n",
      "1\n",
      "2\n",
      "3\n",
      "4\n",
      "5\n",
      "6\n",
      "7\n",
      "8\n"
     ]
    }
   ],
   "source": [
    "for n in range(0, len(list_mots)):\n",
    "    print(n)"
   ]
  },
  {
   "cell_type": "code",
   "execution_count": 55,
   "metadata": {},
   "outputs": [
    {
     "name": "stdout",
     "output_type": "stream",
     "text": [
      "[0]\n",
      "[0, 2]\n",
      "[0, 2, 4]\n",
      "[0, 2, 4, 6]\n",
      "[0, 2, 4, 6, 8]\n"
     ]
    }
   ],
   "source": [
    "list_numbers = []\n",
    "for n in range(0, 10, 2):\n",
    "    list_numbers.append(n)\n",
    "    print(list_numbers)"
   ]
  },
  {
   "cell_type": "code",
   "execution_count": 56,
   "metadata": {},
   "outputs": [
    {
     "name": "stdout",
     "output_type": "stream",
     "text": [
      "Step - 0\n",
      "0\n",
      "---\n",
      "Step - 1\n",
      "20\n",
      "---\n",
      "Step - 2\n",
      "40\n",
      "---\n",
      "Step - 3\n",
      "60\n",
      "---\n",
      "Step - 4\n",
      "80\n",
      "---\n"
     ]
    }
   ],
   "source": [
    "i = 0\n",
    "for n in range(0, 10, 2):\n",
    "    print(f'Step - {i}')\n",
    "    print(n*10)\n",
    "    print('---')\n",
    "    i += 1"
   ]
  },
  {
   "cell_type": "markdown",
   "metadata": {},
   "source": [
    "### 9.3 List comprehension / Vectorisation"
   ]
  },
  {
   "cell_type": "code",
   "execution_count": 60,
   "metadata": {},
   "outputs": [
    {
     "data": {
      "text/plain": [
       "[0, 1, -2, 3, -4, 5, -6, 7, -8, 9]"
      ]
     },
     "execution_count": 60,
     "metadata": {},
     "output_type": "execute_result"
    }
   ],
   "source": [
    "list_number2 = [n for n in range(10)]\n",
    "list_number2\n",
    "\n",
    "list_nb_cond = [n for n in range(10) if n%2 != 0]\n",
    "list_nb_cond\n",
    "\n",
    "list_nb_cond = [n if n%2 != 0 else -n for n in range(10)]\n",
    "list_nb_cond"
   ]
  },
  {
   "cell_type": "markdown",
   "metadata": {},
   "source": [
    "Exercices<br>\n",
    "1) A l'aide de la vectorisation créer une condition d'appartenance à 'Pro' ou 'U20' selon la valeur de l'âge\n",
    "2) Pour chaque mot dans la liste : créer un résultat de condition si le mot est plus ou moins long que 5 caractères et ajouter ce résultat dans un dictionnaire avec pour clé le mot"
   ]
  },
  {
   "cell_type": "code",
   "execution_count": 64,
   "metadata": {},
   "outputs": [
    {
     "name": "stdout",
     "output_type": "stream",
     "text": [
      "['U20', 'Pro', 'U20', 'Pro', 'Pro', 'U20', 'U20']\n"
     ]
    },
    {
     "data": {
      "text/plain": [
       "{'Teddy': '> 5 caractères',\n",
       " 'Riner': '> 5 caractères',\n",
       " 'a': '< 5 caractères',\n",
       " 'remporté': '> 5 caractères',\n",
       " '2': '< 5 caractères',\n",
       " 'médailles': '> 5 caractères',\n",
       " \"d'or\": '< 5 caractères',\n",
       " 'en': '< 5 caractères',\n",
       " 'Judo': '< 5 caractères'}"
      ]
     },
     "execution_count": 64,
     "metadata": {},
     "output_type": "execute_result"
    }
   ],
   "source": [
    "#1\n",
    "list_ages = [12, 23, 18, 34, 27, 13, 20]\n",
    "list_cat = ['U20' if a <= 20 else 'Pro' for a in list_ages]\n",
    "print(list_cat)\n",
    "\n",
    "#2\n",
    "phrase = \"Teddy Riner a remporté 2 médailles d'or en Judo\"\n",
    "list_mots = phrase.split()\n",
    "list_mots\n",
    "\n",
    "dict_mots = {}\n",
    "\n",
    "for m in list_mots:\n",
    "    lend_cond = '< 5 caractères' if len(m) < 5 else '> 5 caractères'\n",
    "    dict_mots[m] = lend_cond\n",
    "\n",
    "dict_mots"
   ]
  },
  {
   "cell_type": "markdown",
   "metadata": {},
   "source": [
    "### 9.4 While"
   ]
  },
  {
   "cell_type": "code",
   "execution_count": 65,
   "metadata": {},
   "outputs": [
    {
     "name": "stdout",
     "output_type": "stream",
     "text": [
      "0\n",
      "---\n",
      "1\n",
      "---\n",
      "2\n",
      "---\n",
      "3\n",
      "---\n",
      "4\n",
      "---\n",
      "5\n",
      "---\n"
     ]
    }
   ],
   "source": [
    "i = 0\n",
    "\n",
    "while i <= 5:\n",
    "    print(i)\n",
    "    i += 1\n",
    "    print('---')"
   ]
  },
  {
   "cell_type": "code",
   "execution_count": 66,
   "metadata": {},
   "outputs": [
    {
     "data": {
      "text/plain": [
       "{'Teddy': '> 5 caractères', 'Riner': '> 5 caractères', 'a': '< 5 caractères'}"
      ]
     },
     "execution_count": 66,
     "metadata": {},
     "output_type": "execute_result"
    }
   ],
   "source": [
    "phrase = \"Teddy Riner a remporté 2 médailles d'or en Judo\"\n",
    "list_mots = phrase.split()\n",
    "dict_mots = {}\n",
    "\n",
    "i = 0\n",
    "\n",
    "while i < 3:\n",
    "    lend_cond = '< 5 caractères' if len(list_mots[i]) < 5 else '> 5 caractères'\n",
    "    dict_mots[list_mots[i]] = lend_cond\n",
    "    i += 1\n",
    "\n",
    "dict_mots"
   ]
  },
  {
   "cell_type": "markdown",
   "metadata": {},
   "source": [
    "### 9.5 zip et enumerate"
   ]
  },
  {
   "cell_type": "code",
   "execution_count": 67,
   "metadata": {},
   "outputs": [
    {
     "name": "stdout",
     "output_type": "stream",
     "text": [
      "Step - 0\n",
      "0\n",
      "---\n",
      "Step - 1\n",
      "2\n",
      "---\n",
      "Step - 2\n",
      "4\n",
      "---\n",
      "Step - 3\n",
      "6\n",
      "---\n",
      "Step - 4\n",
      "8\n",
      "---\n"
     ]
    }
   ],
   "source": [
    "for i, n in enumerate(range(0, 10, 2)):\n",
    "    print(f'Step - {i}')\n",
    "    print(n)\n",
    "    print('---')"
   ]
  },
  {
   "cell_type": "code",
   "execution_count": 68,
   "metadata": {},
   "outputs": [
    {
     "data": {
      "text/plain": [
       "{'Teddy': '> 5 caractères', 'Riner': '> 5 caractères', 'a': '< 5 caractères'}"
      ]
     },
     "execution_count": 68,
     "metadata": {},
     "output_type": "execute_result"
    }
   ],
   "source": [
    "phrase = \"Teddy Riner a remporté 2 médailles d'or en Judo\"\n",
    "list_mots = phrase.split()\n",
    "dict_mots = {}\n",
    "\n",
    "for i, m in enumerate(list_mots):\n",
    "    if i < 3:\n",
    "        lend_cond = '< 5 caractères' if len(m) < 5 else '> 5 caractères'\n",
    "        dict_mots[m] = lend_cond\n",
    "        i += 1\n",
    "\n",
    "dict_mots"
   ]
  },
  {
   "cell_type": "code",
   "execution_count": 71,
   "metadata": {},
   "outputs": [
    {
     "name": "stdout",
     "output_type": "stream",
     "text": [
      "12\n",
      "U20\n",
      "12 U20\n",
      "---\n",
      "23\n",
      "Pro\n",
      "23 Pro\n",
      "---\n",
      "18\n",
      "U20\n",
      "18 U20\n",
      "---\n",
      "34\n",
      "Pro\n",
      "34 Pro\n",
      "---\n",
      "27\n",
      "Pro\n",
      "27 Pro\n",
      "---\n",
      "13\n",
      "U20\n",
      "13 U20\n",
      "---\n",
      "20\n",
      "U20\n",
      "20 U20\n",
      "---\n"
     ]
    }
   ],
   "source": [
    "for a, c in zip(list_ages, list_cat):\n",
    "    print(a)\n",
    "    print(c)\n",
    "    print(a, c)\n",
    "    print('---')"
   ]
  },
  {
   "cell_type": "code",
   "execution_count": 72,
   "metadata": {},
   "outputs": [
    {
     "name": "stdout",
     "output_type": "stream",
     "text": [
      "12 U20\n",
      "23 Pro\n",
      "18 U20\n"
     ]
    }
   ],
   "source": [
    "for a, c in zip([12, 23, 18], list_cat):\n",
    "    print(a, c)"
   ]
  },
  {
   "cell_type": "code",
   "execution_count": 73,
   "metadata": {},
   "outputs": [
    {
     "name": "stdout",
     "output_type": "stream",
     "text": [
      "12 U20\n",
      "23 Pro\n"
     ]
    }
   ],
   "source": [
    "for a, c in zip(list_ages, ['U20', 'Pro']):\n",
    "    print(a, c)"
   ]
  },
  {
   "cell_type": "code",
   "execution_count": 74,
   "metadata": {},
   "outputs": [
    {
     "name": "stdout",
     "output_type": "stream",
     "text": [
      "0 12 U20\n",
      "1 23 Pro\n",
      "2 18 U20\n",
      "3 34 Pro\n",
      "4 27 Pro\n",
      "5 13 U20\n",
      "6 20 U20\n"
     ]
    }
   ],
   "source": [
    "for i, (a, c) in enumerate(zip(list_ages, list_cat)):\n",
    "    print(i, a, c)"
   ]
  },
  {
   "cell_type": "markdown",
   "metadata": {},
   "source": [
    "Exercice<br>\n",
    "A l'aide des listes de prénoms d'athlètes, de sports et d'âges : créer un dictionnaire de 4 athlètes maximum ayant pour clé le prénom de l'athlète et comme valeur un deuxième dictionnaire avec pour clés 'sport', 'age', 'categorie' (+ ou - de 25 ans)"
   ]
  },
  {
   "cell_type": "code",
   "execution_count": 75,
   "metadata": {},
   "outputs": [
    {
     "data": {
      "text/plain": [
       "{'Antoine': {'sport': 'rugby', 'age': 27, 'cat': '+ de 25 ans'},\n",
       " 'Pauline': {'sport': 'VTT', 'age': 32, 'cat': '+ de 25 ans'},\n",
       " 'Cassandre': {'sport': 'Triathlon', 'age': 27, 'cat': '+ de 25 ans'},\n",
       " 'Léon': {'sport': 'Natation', 'age': 22, 'cat': '- de 25 ans'}}"
      ]
     },
     "execution_count": 75,
     "metadata": {},
     "output_type": "execute_result"
    }
   ],
   "source": [
    "list_ath = ['Antoine', 'Pauline', 'Cassandre', 'Léon', 'Teddy', 'Félix']\n",
    "list_ages = [27, 32, 27, 22, 35, 17]\n",
    "list_sport = ['rugby', 'VTT', 'Triathlon', 'Natation', 'Judo', 'Tennis de table']\n",
    "\n",
    "dict_ath = {}\n",
    "\n",
    "for i, (ath, ag, sp) in enumerate(zip(list_ath, list_ages, list_sport)):\n",
    "    if i < 4:\n",
    "        sub_dict = {}\n",
    "        sub_dict['sport'] = sp\n",
    "        sub_dict['age'] = ag\n",
    "        sub_dict['cat'] = '- de 25 ans' if ag < 25 else '+ de 25 ans'\n",
    "\n",
    "        dict_ath[ath] = sub_dict\n",
    "\n",
    "dict_ath"
   ]
  },
  {
   "cell_type": "markdown",
   "metadata": {},
   "source": [
    "## 10. Fonctions\n",
    "Comprendre la construction d'une fonction"
   ]
  },
  {
   "cell_type": "code",
   "execution_count": 77,
   "metadata": {},
   "outputs": [],
   "source": [
    "a = 10\n",
    "b = 4"
   ]
  },
  {
   "cell_type": "markdown",
   "metadata": {},
   "source": [
    "### 10.1 Fonctions à une sortie"
   ]
  },
  {
   "cell_type": "code",
   "execution_count": 78,
   "metadata": {},
   "outputs": [],
   "source": [
    "#Notions d'arguments en dehors de la fonction et dans la fonction\n",
    "def fonction_creee():\n",
    "    print(a + b)"
   ]
  },
  {
   "cell_type": "code",
   "execution_count": 79,
   "metadata": {},
   "outputs": [
    {
     "name": "stdout",
     "output_type": "stream",
     "text": [
      "14\n"
     ]
    }
   ],
   "source": [
    "fonction_creee()"
   ]
  },
  {
   "cell_type": "code",
   "execution_count": 80,
   "metadata": {},
   "outputs": [],
   "source": [
    "def fonction_arg(arg_1, arg_2):\n",
    "    print(arg_1 + arg_2)"
   ]
  },
  {
   "cell_type": "code",
   "execution_count": 82,
   "metadata": {},
   "outputs": [
    {
     "name": "stdout",
     "output_type": "stream",
     "text": [
      "14\n"
     ]
    }
   ],
   "source": [
    "fonction_arg(a, b)"
   ]
  },
  {
   "cell_type": "code",
   "execution_count": 85,
   "metadata": {},
   "outputs": [
    {
     "data": {
      "text/plain": [
       "14"
      ]
     },
     "execution_count": 85,
     "metadata": {},
     "output_type": "execute_result"
    }
   ],
   "source": [
    "def fct_arg(arg_1, arg_2):\n",
    "    result = arg_1 + arg_2\n",
    "\n",
    "    return result\n",
    "\n",
    "r_fct = fct_arg(a, b)\n",
    "r_fct"
   ]
  },
  {
   "cell_type": "code",
   "execution_count": 90,
   "metadata": {},
   "outputs": [
    {
     "data": {
      "text/plain": [
       "7"
      ]
     },
     "execution_count": 90,
     "metadata": {},
     "output_type": "execute_result"
    }
   ],
   "source": [
    "a + r_fct\n",
    "\n",
    "fct_arg(2, 5)"
   ]
  },
  {
   "cell_type": "code",
   "execution_count": 92,
   "metadata": {},
   "outputs": [
    {
     "data": {
      "text/plain": [
       "40"
      ]
     },
     "execution_count": 92,
     "metadata": {},
     "output_type": "execute_result"
    }
   ],
   "source": [
    "#Arguments avec valeur par défaut si non attribuée\n",
    "def fct_dft(arg_1, arg_2=100):\n",
    "    result = arg_1 * arg_2\n",
    "    return result\n",
    "\n",
    "fct_dft(a)\n",
    "fct_dft(a, b)"
   ]
  },
  {
   "cell_type": "markdown",
   "metadata": {},
   "source": [
    "### 10.2 Fonctions à plusieurs sorties"
   ]
  },
  {
   "cell_type": "code",
   "execution_count": 96,
   "metadata": {},
   "outputs": [
    {
     "name": "stdout",
     "output_type": "stream",
     "text": [
      "110\n",
      "Valeur 2 par défaut\n",
      "110\n",
      "Valeur 2 par défaut\n"
     ]
    }
   ],
   "source": [
    "def fct_2(arg_1, arg_2=100):\n",
    "    if arg_2 == 100:\n",
    "        arg_2_dft = 'Valeur 2 par défaut'\n",
    "    else:\n",
    "        arg_2_dft = 'Valeur 2 fournie'\n",
    "\n",
    "    result = arg_1 + arg_2\n",
    "\n",
    "    return result, arg_2_dft\n",
    "\n",
    "r_fct = fct_2(a)\n",
    "print(r_fct[0])\n",
    "print(r_fct[1])\n",
    "\n",
    "v1, v2 = fct_2(a)\n",
    "print(v1)\n",
    "print(v2)\n"
   ]
  },
  {
   "cell_type": "markdown",
   "metadata": {},
   "source": [
    "Exercice<br>\n",
    "Créer une fonction calculant le quotient entre 2 arguments (numérateur et dénominateur). Ajouter une condition si le dénominateur est égal à 0 : 'division par 0 impossible'. La sortie de la fonction doit être soit la valeur de la condition soit le résultat du quotient"
   ]
  },
  {
   "cell_type": "code",
   "execution_count": 98,
   "metadata": {},
   "outputs": [
    {
     "name": "stdout",
     "output_type": "stream",
     "text": [
      "Division par 0 impossible\n",
      "2.5\n"
     ]
    }
   ],
   "source": [
    "def quotien_test(num, den):\n",
    "    if den == 0:\n",
    "        res = 'Division par 0 impossible'\n",
    "    else:\n",
    "        res = num / den\n",
    "\n",
    "    return res\n",
    "\n",
    "print(quotien_test(a, 0))\n",
    "print(quotien_test(a, b))"
   ]
  },
  {
   "cell_type": "markdown",
   "metadata": {},
   "source": [
    "# Exercice final :<br>Créer une fonction pour imprimer une fiche de sportif\n",
    "La fonction doit comprendre 3 arguments :<br>\n",
    "- Un dictionnaire avec les informations du sportif (nom, prénom, âge, poids, sexe M ou F)<br>\n",
    "- Le sport du sportif (en minuscule)<br>\n",
    "- Une liste de résultats à des tests : Squat (nombre entier), 30-15 (décimal arrondi à 1 chiffre), Bronco (décimal arrondi à 1 chiffre) et 20m sprint (décimal arrondi à 1 chiffre).<br>\n",
    "\n",
    "A l'appel de la fonction doit apparaitre une fiche du type :<br>\n",
    "<br>Nom complet : *(Prénom + NOM)*\n",
    "<br>Age : *(valeur)* ans\n",
    "<br>Poids : *(valeur)* kg\n",
    "<br>Sport : *(première lettre en majuscule)*\n",
    "<br>Identifiant : *(sexe en majuscule + les initiales du nom et prénoms en majuscule + âge + la première lettre du sport en majuscule)*\n",
    "<br>Résultats des tests :\n",
    "<br>Squat : *(valeur)* kg - Ratio *(ratio avec pdc arrondi à une décimale)*\n",
    "<br>30-15 : X,X km/h de VMA\n",
    "<br>Bronco : *(au format XminYsec)*\n",
    "<br>20m sprint : *(au format X'X)*\n",
    "\n",
    "Indications supplémentaires : <br>\n",
    "- Dans le cas d'un prénom ou nom composé, les initiales des deux prénoms ou noms doivent apparaitre dans l'identifiant (indice : chercher ' ' ou '-')\n",
    "- Le résultat du Bronco doit être converti : par exemple 3,2 correspond à 3min12sec..."
   ]
  },
  {
   "cell_type": "code",
   "execution_count": 101,
   "metadata": {},
   "outputs": [],
   "source": [
    "dict_s = {'nom': 'Dupont',\n",
    "          'prenom': 'Antoine',\n",
    "          'poids': 92,\n",
    "          'age': 27,\n",
    "          'sexe': 'M'}\n",
    "\n",
    "sport_s = 'rugby'\n",
    "tests_s = [180, 17.8, 4.2, 2.3]\n",
    "\n",
    "def fiche_sportif(info_s, sport, res_tests):\n",
    "\n",
    "    print(f\"Nom complet : {info_s['prenom']} {info_s['nom'].upper()}\")\n",
    "    print(f\"Age : {info_s['age']} ans\")\n",
    "    print(f\"Poids: {info_s['poids']}kg\")\n",
    "    print(f\"Sport : {sport.capitalize()}\")\n",
    "\n",
    "    #Prénom\n",
    "    id_prenom = ''\n",
    "    if '-' in info_s['prenom']:\n",
    "        list_p = info_s['prenom'].split('-')\n",
    "        for p in list_p:\n",
    "            id_prenom += p[0]\n",
    "    elif ' ' in info_s['prenom']:\n",
    "        list_p = info_s['prenom'].split(' ')\n",
    "        for p in list_p:\n",
    "            id_prenom += p[0]\n",
    "    else:\n",
    "        id_prenom += info_s['prenom'][0]\n",
    "\n",
    "    #Nom\n",
    "    id_nom = ''\n",
    "    if '-' in info_s['nom']:\n",
    "        list_n = info_s['nom'].split('-')\n",
    "        for n in list_n:\n",
    "            id_nom += n[0]\n",
    "    elif ' ' in info_s['nom']:\n",
    "        list_n = info_s['nom'].split(' ')\n",
    "        for n in list_n:\n",
    "            id_nom += n[0]\n",
    "    else:\n",
    "        id_nom += info_s['nom'][0]\n",
    "\n",
    "    id_s = info_s['sexe'] + id_prenom + id_nom + str(info_s['age']) + sport[0].upper()\n",
    "    print(f\"Identifiant : {id_s}\")\n",
    "\n",
    "    print(f\"Résultats des tests\")\n",
    "    ratio = round(res_tests[0] / info_s['poids'], 1)\n",
    "    print(f\"Squat : {res_tests[0]}kg - Ration {ratio}\")\n",
    "\n",
    "    vma_str = str(res_tests[1]).split('.')\n",
    "    print(f\"30-15 : {vma_str[0]},{vma_str[1]}km/h de VMA\")\n",
    "\n",
    "    br_min = str(res_tests[2]).split('.')[0]\n",
    "    br_sec = str(res_tests[2]).split('.')[1]\n",
    "    br_sec_std = int(int(br_sec) * 6)\n",
    "    print(f\"Bronco : {br_min}min{br_sec_std}sec\")\n",
    "\n",
    "    sp_sec = str(res_tests[3]).split('.')[0]\n",
    "    sp_ms = str(res_tests[3]).split('.')[1]\n",
    "    print(f\"Sprint de 20m : {sp_sec}'{sp_ms}\")"
   ]
  },
  {
   "cell_type": "code",
   "execution_count": 102,
   "metadata": {},
   "outputs": [
    {
     "name": "stdout",
     "output_type": "stream",
     "text": [
      "Nom complet : Antoine DUPONT\n",
      "Age : 27 ans\n",
      "Poids: 92kg\n",
      "Sport : Rugby\n",
      "Identifiant : MAD27R\n",
      "Résultats des tests\n",
      "Squat : 180kg - Ration 2.0\n",
      "30-15 : 17,8km/h de VMA\n",
      "Bronco : 4min12sec\n",
      "Sprint de 20m : 2'3\n"
     ]
    }
   ],
   "source": [
    "fiche_sportif(dict_s, sport_s, tests_s)"
   ]
  },
  {
   "cell_type": "code",
   "execution_count": 103,
   "metadata": {},
   "outputs": [
    {
     "name": "stdout",
     "output_type": "stream",
     "text": [
      "Nom complet : Pierre-Ambroise BOSSE\n",
      "Age : 32 ans\n",
      "Poids: 80kg\n",
      "Sport : Athlétisme\n",
      "Identifiant : MPAB32A\n",
      "Résultats des tests\n",
      "Squat : 150kg - Ration 1.9\n",
      "30-15 : 24,3km/h de VMA\n",
      "Bronco : 3min6sec\n",
      "Sprint de 20m : 1'8\n"
     ]
    }
   ],
   "source": [
    "dict_s2 = {'nom': 'Bosse',\n",
    "           'prenom': 'Pierre-Ambroise',\n",
    "           'poids': 80,\n",
    "           'age': 32,\n",
    "           'sexe': 'M'}\n",
    "\n",
    "sport = 'athlétisme'\n",
    "test_s = [150, 24.3, 3.1, 1.8]\n",
    "\n",
    "fiche_sportif(dict_s2, sport, test_s)"
   ]
  },
  {
   "cell_type": "markdown",
   "metadata": {},
   "source": [
    "# Bonus"
   ]
  },
  {
   "cell_type": "code",
   "execution_count": 3,
   "metadata": {},
   "outputs": [
    {
     "name": "stdout",
     "output_type": "stream",
     "text": [
      "2.4\n",
      "2.4\n",
      "4\n",
      "40\n",
      "---\n",
      "2.04\n",
      "2.04\n",
      "04\n",
      "4\n",
      "---\n",
      "2.41\n",
      "2.41\n",
      "41\n",
      "41\n",
      "---\n"
     ]
    }
   ],
   "source": [
    "for n in [2.40, 2.04, 2.41]:\n",
    "    print(n)\n",
    "    print(str(n))\n",
    "    print(str(n).split('.')[1])\n",
    "    sec_ = str(n).split('.')[1]\n",
    "    print(int(sec_) if len(sec_) == 2 else int(sec_)*10)\n",
    "    print('---')"
   ]
  }
 ],
 "metadata": {
  "kernelspec": {
   "display_name": "Python 3",
   "language": "python",
   "name": "python3"
  },
  "language_info": {
   "codemirror_mode": {
    "name": "ipython",
    "version": 3
   },
   "file_extension": ".py",
   "mimetype": "text/x-python",
   "name": "python",
   "nbconvert_exporter": "python",
   "pygments_lexer": "ipython3",
   "version": "3.9.13"
  }
 },
 "nbformat": 4,
 "nbformat_minor": 2
}
